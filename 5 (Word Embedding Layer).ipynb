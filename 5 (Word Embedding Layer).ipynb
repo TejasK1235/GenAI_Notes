{
 "cells": [
  {
   "cell_type": "code",
   "execution_count": 1,
   "id": "978f9977-c3a6-438c-a269-0a317bc4c6ed",
   "metadata": {},
   "outputs": [],
   "source": [
    "import tensorflow as tf\n",
    "from tensorflow.keras.preprocessing.text import one_hot"
   ]
  },
  {
   "cell_type": "code",
   "execution_count": 26,
   "id": "443e85ae-81c6-4a4a-87f2-9c07b34a5bc9",
   "metadata": {},
   "outputs": [],
   "source": [
    "sent=[  'the glass of milk',\n",
    "     'the glass of juice',\n",
    "     'the cup of tea',\n",
    "    'Its over Anakin, I have the high ground',\n",
    "    'Hello there general kenobi',\n",
    "    'the dark side of the force is all too powerful',\n",
    "    'I have got a bad feeling about this',\n",
    "     'I am a good developer',\n",
    "     'understand the meaning of words',\n",
    "     'may the force be with you']"
   ]
  },
  {
   "cell_type": "code",
   "execution_count": 27,
   "id": "74e0fce7-b6c9-4645-b9e1-b836e46262a3",
   "metadata": {},
   "outputs": [
    {
     "name": "stdout",
     "output_type": "stream",
     "text": [
      "GPUs: []\n"
     ]
    }
   ],
   "source": [
    "print(\"GPUs:\", tf.config.list_physical_devices('GPU'))"
   ]
  },
  {
   "cell_type": "code",
   "execution_count": 28,
   "id": "d2046533-1edb-4e26-859f-f9b78a3ec7a1",
   "metadata": {},
   "outputs": [],
   "source": [
    "vocab_size = 10000"
   ]
  },
  {
   "cell_type": "code",
   "execution_count": 29,
   "id": "254be131-49ec-4bde-95dd-7f30d74fc858",
   "metadata": {},
   "outputs": [],
   "source": [
    "ohe_representation = [one_hot(words,vocab_size) for words in sent]"
   ]
  },
  {
   "cell_type": "code",
   "execution_count": 30,
   "id": "4d89366c-0fd4-4ede-a3e1-16c98e49a7b7",
   "metadata": {},
   "outputs": [
    {
     "data": {
      "text/plain": [
       "[[5821, 8645, 7898, 850],\n",
       " [5821, 8645, 7898, 6732],\n",
       " [5821, 3487, 7898, 9456],\n",
       " [3102, 2802, 8911, 437, 6795, 5821, 4469, 7612],\n",
       " [3377, 1915, 1992, 2458],\n",
       " [5821, 6148, 7720, 7898, 5821, 6419, 6321, 8184, 2046, 6655],\n",
       " [437, 6795, 3964, 3299, 6827, 5472, 4319, 1525],\n",
       " [437, 1618, 3299, 165, 8694],\n",
       " [7184, 5821, 7723, 7898, 974],\n",
       " [1634, 5821, 6419, 4537, 7706, 8015]]"
      ]
     },
     "execution_count": 30,
     "metadata": {},
     "output_type": "execute_result"
    }
   ],
   "source": [
    "ohe_representation"
   ]
  },
  {
   "cell_type": "code",
   "execution_count": 31,
   "id": "175b9343-2ba4-430a-8ac7-6885d145c01e",
   "metadata": {},
   "outputs": [],
   "source": [
    "from tensorflow.keras.layers import Embedding\n",
    "from tensorflow.keras.models import Sequential\n",
    "from tensorflow.keras.preprocessing.sequence import pad_sequences"
   ]
  },
  {
   "cell_type": "code",
   "execution_count": 32,
   "id": "1487e901-9f06-4760-ac45-2b55281f45bb",
   "metadata": {},
   "outputs": [],
   "source": [
    "sent_length = 12"
   ]
  },
  {
   "cell_type": "code",
   "execution_count": 33,
   "id": "9bb2e4c8-4169-4643-890b-b9b1db2b7a70",
   "metadata": {},
   "outputs": [],
   "source": [
    "embedded_rep = pad_sequences(ohe_representation,padding='pre',maxlen=sent_length)"
   ]
  },
  {
   "cell_type": "code",
   "execution_count": 35,
   "id": "7e832c63-9adf-45af-b32f-5690387cbfd4",
   "metadata": {},
   "outputs": [
    {
     "name": "stdout",
     "output_type": "stream",
     "text": [
      "[[   0    0    0    0    0    0    0    0 5821 8645 7898  850]\n",
      " [   0    0    0    0    0    0    0    0 5821 8645 7898 6732]\n",
      " [   0    0    0    0    0    0    0    0 5821 3487 7898 9456]\n",
      " [   0    0    0    0 3102 2802 8911  437 6795 5821 4469 7612]\n",
      " [   0    0    0    0    0    0    0    0 3377 1915 1992 2458]\n",
      " [   0    0 5821 6148 7720 7898 5821 6419 6321 8184 2046 6655]\n",
      " [   0    0    0    0  437 6795 3964 3299 6827 5472 4319 1525]\n",
      " [   0    0    0    0    0    0    0  437 1618 3299  165 8694]\n",
      " [   0    0    0    0    0    0    0 7184 5821 7723 7898  974]\n",
      " [   0    0    0    0    0    0 1634 5821 6419 4537 7706 8015]]\n"
     ]
    }
   ],
   "source": [
    "print(embedded_rep)"
   ]
  },
  {
   "cell_type": "code",
   "execution_count": 36,
   "id": "04dfb3e7-e3dc-4c8f-a61b-d89b593ecdc5",
   "metadata": {},
   "outputs": [],
   "source": [
    "dim = 12"
   ]
  },
  {
   "cell_type": "code",
   "execution_count": 49,
   "id": "6e0b1a86-4864-4f6f-a000-fdac46c4b396",
   "metadata": {},
   "outputs": [
    {
     "name": "stderr",
     "output_type": "stream",
     "text": [
      "C:\\Users\\tejas\\AppData\\Local\\Packages\\PythonSoftwareFoundation.Python.3.11_qbz5n2kfra8p0\\LocalCache\\local-packages\\Python311\\site-packages\\keras\\src\\layers\\core\\embedding.py:90: UserWarning: Argument `input_length` is deprecated. Just remove it.\n",
      "  warnings.warn(\n"
     ]
    }
   ],
   "source": [
    "model = Sequential()\n",
    "model.add(Embedding(vocab_size,12,input_length=sent_length))\n",
    "model.compile('adam','mse')"
   ]
  },
  {
   "cell_type": "code",
   "execution_count": 50,
   "id": "12d0858d-02a1-419e-8d9c-6608bd55faf2",
   "metadata": {},
   "outputs": [
    {
     "data": {
      "text/html": [
       "<pre style=\"white-space:pre;overflow-x:auto;line-height:normal;font-family:Menlo,'DejaVu Sans Mono',consolas,'Courier New',monospace\"><span style=\"font-weight: bold\">Model: \"sequential_3\"</span>\n",
       "</pre>\n"
      ],
      "text/plain": [
       "\u001b[1mModel: \"sequential_3\"\u001b[0m\n"
      ]
     },
     "metadata": {},
     "output_type": "display_data"
    },
    {
     "data": {
      "text/html": [
       "<pre style=\"white-space:pre;overflow-x:auto;line-height:normal;font-family:Menlo,'DejaVu Sans Mono',consolas,'Courier New',monospace\">┏━━━━━━━━━━━━━━━━━━━━━━━━━━━━━━━━━━━━━━┳━━━━━━━━━━━━━━━━━━━━━━━━━━━━━┳━━━━━━━━━━━━━━━━━┓\n",
       "┃<span style=\"font-weight: bold\"> Layer (type)                         </span>┃<span style=\"font-weight: bold\"> Output Shape                </span>┃<span style=\"font-weight: bold\">         Param # </span>┃\n",
       "┡━━━━━━━━━━━━━━━━━━━━━━━━━━━━━━━━━━━━━━╇━━━━━━━━━━━━━━━━━━━━━━━━━━━━━╇━━━━━━━━━━━━━━━━━┩\n",
       "│ embedding_2 (<span style=\"color: #0087ff; text-decoration-color: #0087ff\">Embedding</span>)              │ ?                           │     <span style=\"color: #00af00; text-decoration-color: #00af00\">0</span> (unbuilt) │\n",
       "└──────────────────────────────────────┴─────────────────────────────┴─────────────────┘\n",
       "</pre>\n"
      ],
      "text/plain": [
       "┏━━━━━━━━━━━━━━━━━━━━━━━━━━━━━━━━━━━━━━┳━━━━━━━━━━━━━━━━━━━━━━━━━━━━━┳━━━━━━━━━━━━━━━━━┓\n",
       "┃\u001b[1m \u001b[0m\u001b[1mLayer (type)                        \u001b[0m\u001b[1m \u001b[0m┃\u001b[1m \u001b[0m\u001b[1mOutput Shape               \u001b[0m\u001b[1m \u001b[0m┃\u001b[1m \u001b[0m\u001b[1m        Param #\u001b[0m\u001b[1m \u001b[0m┃\n",
       "┡━━━━━━━━━━━━━━━━━━━━━━━━━━━━━━━━━━━━━━╇━━━━━━━━━━━━━━━━━━━━━━━━━━━━━╇━━━━━━━━━━━━━━━━━┩\n",
       "│ embedding_2 (\u001b[38;5;33mEmbedding\u001b[0m)              │ ?                           │     \u001b[38;5;34m0\u001b[0m (unbuilt) │\n",
       "└──────────────────────────────────────┴─────────────────────────────┴─────────────────┘\n"
      ]
     },
     "metadata": {},
     "output_type": "display_data"
    },
    {
     "data": {
      "text/html": [
       "<pre style=\"white-space:pre;overflow-x:auto;line-height:normal;font-family:Menlo,'DejaVu Sans Mono',consolas,'Courier New',monospace\"><span style=\"font-weight: bold\"> Total params: </span><span style=\"color: #00af00; text-decoration-color: #00af00\">0</span> (0.00 B)\n",
       "</pre>\n"
      ],
      "text/plain": [
       "\u001b[1m Total params: \u001b[0m\u001b[38;5;34m0\u001b[0m (0.00 B)\n"
      ]
     },
     "metadata": {},
     "output_type": "display_data"
    },
    {
     "data": {
      "text/html": [
       "<pre style=\"white-space:pre;overflow-x:auto;line-height:normal;font-family:Menlo,'DejaVu Sans Mono',consolas,'Courier New',monospace\"><span style=\"font-weight: bold\"> Trainable params: </span><span style=\"color: #00af00; text-decoration-color: #00af00\">0</span> (0.00 B)\n",
       "</pre>\n"
      ],
      "text/plain": [
       "\u001b[1m Trainable params: \u001b[0m\u001b[38;5;34m0\u001b[0m (0.00 B)\n"
      ]
     },
     "metadata": {},
     "output_type": "display_data"
    },
    {
     "data": {
      "text/html": [
       "<pre style=\"white-space:pre;overflow-x:auto;line-height:normal;font-family:Menlo,'DejaVu Sans Mono',consolas,'Courier New',monospace\"><span style=\"font-weight: bold\"> Non-trainable params: </span><span style=\"color: #00af00; text-decoration-color: #00af00\">0</span> (0.00 B)\n",
       "</pre>\n"
      ],
      "text/plain": [
       "\u001b[1m Non-trainable params: \u001b[0m\u001b[38;5;34m0\u001b[0m (0.00 B)\n"
      ]
     },
     "metadata": {},
     "output_type": "display_data"
    }
   ],
   "source": [
    "model.summary()"
   ]
  },
  {
   "cell_type": "code",
   "execution_count": 51,
   "id": "a1fc97bb-de07-4c45-a66d-626c22fcc51a",
   "metadata": {},
   "outputs": [
    {
     "name": "stdout",
     "output_type": "stream",
     "text": [
      "[   0    0    0    0    0    0    0    0 5821 8645 7898  850]\n"
     ]
    }
   ],
   "source": [
    "print(embedded_rep[0])"
   ]
  },
  {
   "cell_type": "code",
   "execution_count": 52,
   "id": "d8c05214-96c4-45af-a71a-9168378af615",
   "metadata": {
    "scrolled": true
   },
   "outputs": [
    {
     "name": "stdout",
     "output_type": "stream",
     "text": [
      "\u001b[1m1/1\u001b[0m \u001b[32m━━━━━━━━━━━━━━━━━━━━\u001b[0m\u001b[37m\u001b[0m \u001b[1m0s\u001b[0m 179ms/step\n"
     ]
    },
    {
     "data": {
      "text/plain": [
       "array([[ 0.03452325,  0.00290419, -0.0478727 , -0.04927165, -0.00973719,\n",
       "         0.04983038,  0.02878049,  0.03144518, -0.01323439, -0.00996486,\n",
       "         0.0091214 ,  0.0397067 ],\n",
       "       [ 0.03452325,  0.00290419, -0.0478727 , -0.04927165, -0.00973719,\n",
       "         0.04983038,  0.02878049,  0.03144518, -0.01323439, -0.00996486,\n",
       "         0.0091214 ,  0.0397067 ],\n",
       "       [ 0.03452325,  0.00290419, -0.0478727 , -0.04927165, -0.00973719,\n",
       "         0.04983038,  0.02878049,  0.03144518, -0.01323439, -0.00996486,\n",
       "         0.0091214 ,  0.0397067 ],\n",
       "       [ 0.03452325,  0.00290419, -0.0478727 , -0.04927165, -0.00973719,\n",
       "         0.04983038,  0.02878049,  0.03144518, -0.01323439, -0.00996486,\n",
       "         0.0091214 ,  0.0397067 ],\n",
       "       [ 0.03452325,  0.00290419, -0.0478727 , -0.04927165, -0.00973719,\n",
       "         0.04983038,  0.02878049,  0.03144518, -0.01323439, -0.00996486,\n",
       "         0.0091214 ,  0.0397067 ],\n",
       "       [ 0.03452325,  0.00290419, -0.0478727 , -0.04927165, -0.00973719,\n",
       "         0.04983038,  0.02878049,  0.03144518, -0.01323439, -0.00996486,\n",
       "         0.0091214 ,  0.0397067 ],\n",
       "       [ 0.03452325,  0.00290419, -0.0478727 , -0.04927165, -0.00973719,\n",
       "         0.04983038,  0.02878049,  0.03144518, -0.01323439, -0.00996486,\n",
       "         0.0091214 ,  0.0397067 ],\n",
       "       [ 0.03452325,  0.00290419, -0.0478727 , -0.04927165, -0.00973719,\n",
       "         0.04983038,  0.02878049,  0.03144518, -0.01323439, -0.00996486,\n",
       "         0.0091214 ,  0.0397067 ],\n",
       "       [-0.0207961 , -0.03529242, -0.04894941,  0.0388456 ,  0.02841974,\n",
       "        -0.02575735,  0.00586217, -0.04976165,  0.00345956,  0.04075572,\n",
       "         0.00902637,  0.02047015],\n",
       "       [ 0.0364637 , -0.00745605, -0.03401263,  0.04045961,  0.02299641,\n",
       "        -0.03104328,  0.01974703,  0.03038737, -0.02403864,  0.01827396,\n",
       "        -0.03174511, -0.04203536],\n",
       "       [-0.00719881,  0.03560646, -0.00697036, -0.02400185, -0.03147787,\n",
       "         0.04748951,  0.0419856 ,  0.0224316 ,  0.01181645, -0.01164714,\n",
       "         0.00325703,  0.02753955],\n",
       "       [-0.03467613, -0.01886377, -0.01564499, -0.03770626, -0.03426918,\n",
       "         0.0124918 ,  0.04941711, -0.01888883, -0.02576683,  0.03522314,\n",
       "        -0.04045755, -0.02330357]], dtype=float32)"
      ]
     },
     "execution_count": 52,
     "metadata": {},
     "output_type": "execute_result"
    }
   ],
   "source": [
    "model.predict(embedded_rep[0])"
   ]
  },
  {
   "cell_type": "code",
   "execution_count": null,
   "id": "e9690e50-e40d-4a42-a7a5-3e005d615e0f",
   "metadata": {},
   "outputs": [],
   "source": []
  },
  {
   "cell_type": "code",
   "execution_count": null,
   "id": "e38a0123-c387-4577-9004-35cead887855",
   "metadata": {},
   "outputs": [],
   "source": []
  },
  {
   "cell_type": "code",
   "execution_count": null,
   "id": "51a28f26-d4bf-48e2-b1ad-70945b67a52a",
   "metadata": {},
   "outputs": [],
   "source": []
  },
  {
   "cell_type": "code",
   "execution_count": null,
   "id": "8c8db027-5d7c-40ab-b158-277632722d2e",
   "metadata": {},
   "outputs": [],
   "source": []
  },
  {
   "cell_type": "code",
   "execution_count": null,
   "id": "8336f91b-8900-45cc-912e-416a80f73be2",
   "metadata": {},
   "outputs": [],
   "source": []
  },
  {
   "cell_type": "code",
   "execution_count": null,
   "id": "a25b50e4-bf45-4c0d-b909-deb8e4f2557b",
   "metadata": {},
   "outputs": [],
   "source": []
  },
  {
   "cell_type": "code",
   "execution_count": null,
   "id": "910460e0-1d32-4fa6-a02f-90f3ab2b162e",
   "metadata": {},
   "outputs": [],
   "source": []
  },
  {
   "cell_type": "code",
   "execution_count": null,
   "id": "e2d54de3-cf0b-43c8-8f70-c890bc513050",
   "metadata": {},
   "outputs": [],
   "source": []
  },
  {
   "cell_type": "code",
   "execution_count": null,
   "id": "27bf85db-5aac-4258-af03-5633ecf39d60",
   "metadata": {},
   "outputs": [],
   "source": []
  },
  {
   "cell_type": "code",
   "execution_count": null,
   "id": "5bf17ab6-41d7-46b4-b4fa-4865b3f4fafb",
   "metadata": {},
   "outputs": [],
   "source": []
  },
  {
   "cell_type": "code",
   "execution_count": null,
   "id": "d8d78aab-ec42-4aea-93e3-2f2f43b82de4",
   "metadata": {},
   "outputs": [],
   "source": []
  },
  {
   "cell_type": "code",
   "execution_count": null,
   "id": "3eb46a07-6a0e-4d14-8308-11aa8d3d026a",
   "metadata": {},
   "outputs": [],
   "source": []
  },
  {
   "cell_type": "code",
   "execution_count": null,
   "id": "1128ad34-96eb-48aa-a83f-6b00d1564665",
   "metadata": {},
   "outputs": [],
   "source": []
  }
 ],
 "metadata": {
  "kernelspec": {
   "display_name": "Python 3 (ipykernel)",
   "language": "python",
   "name": "python3"
  },
  "language_info": {
   "codemirror_mode": {
    "name": "ipython",
    "version": 3
   },
   "file_extension": ".py",
   "mimetype": "text/x-python",
   "name": "python",
   "nbconvert_exporter": "python",
   "pygments_lexer": "ipython3",
   "version": "3.11.9"
  }
 },
 "nbformat": 4,
 "nbformat_minor": 5
}
