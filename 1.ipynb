{
 "cells": [
  {
   "cell_type": "code",
   "execution_count": 2,
   "id": "cd7520ff-146d-4a39-9c21-944a66d00dc7",
   "metadata": {},
   "outputs": [
    {
     "name": "stdout",
     "output_type": "stream",
     "text": [
      "Requirement already satisfied: nltk in c:\\users\\tejas\\appdata\\local\\packages\\pythonsoftwarefoundation.python.3.11_qbz5n2kfra8p0\\localcache\\local-packages\\python311\\site-packages (3.9.1)\n",
      "Requirement already satisfied: click in c:\\users\\tejas\\appdata\\local\\packages\\pythonsoftwarefoundation.python.3.11_qbz5n2kfra8p0\\localcache\\local-packages\\python311\\site-packages (from nltk) (8.1.7)\n",
      "Requirement already satisfied: joblib in c:\\users\\tejas\\appdata\\local\\packages\\pythonsoftwarefoundation.python.3.11_qbz5n2kfra8p0\\localcache\\local-packages\\python311\\site-packages (from nltk) (1.4.2)\n",
      "Requirement already satisfied: regex>=2021.8.3 in c:\\users\\tejas\\appdata\\local\\packages\\pythonsoftwarefoundation.python.3.11_qbz5n2kfra8p0\\localcache\\local-packages\\python311\\site-packages (from nltk) (2024.7.24)\n",
      "Requirement already satisfied: tqdm in c:\\users\\tejas\\appdata\\local\\packages\\pythonsoftwarefoundation.python.3.11_qbz5n2kfra8p0\\localcache\\local-packages\\python311\\site-packages (from nltk) (4.66.4)\n",
      "Requirement already satisfied: colorama in c:\\users\\tejas\\appdata\\local\\packages\\pythonsoftwarefoundation.python.3.11_qbz5n2kfra8p0\\localcache\\local-packages\\python311\\site-packages (from click->nltk) (0.4.6)\n"
     ]
    },
    {
     "name": "stderr",
     "output_type": "stream",
     "text": [
      "\n",
      "[notice] A new release of pip is available: 24.1.2 -> 25.1.1\n",
      "[notice] To update, run: C:\\Users\\tejas\\AppData\\Local\\Microsoft\\WindowsApps\\PythonSoftwareFoundation.Python.3.11_qbz5n2kfra8p0\\python.exe -m pip install --upgrade pip\n"
     ]
    }
   ],
   "source": [
    "!pip install nltk"
   ]
  },
  {
   "cell_type": "code",
   "execution_count": 3,
   "id": "da19279c-b575-4800-87ad-117994f92a44",
   "metadata": {},
   "outputs": [],
   "source": [
    "import nltk"
   ]
  },
  {
   "cell_type": "code",
   "execution_count": 71,
   "id": "a82a28f3-85a7-45a0-a1ac-01e61d3851fa",
   "metadata": {},
   "outputs": [],
   "source": [
    "paragraph = \"\"\"\n",
    "Defeat of the Sith (1032 BBY)\n",
    "\n",
    "    1032 BBY[21]\n",
    "        The Jedi-Sith War[81] ends with the Jedi Order and Republic forces victorious.[73]\n",
    "            Coruscant and the Jedi Temple had been occupied by the Sith as part of the war[73] and the Darksaber stolen from the temple by Mandalorians.[74]\n",
    "            Mandalore mural\n",
    "\n",
    "        A Mandalorian mural depicts the slaying of a Jedi\n",
    "        By this point, Coruscant and the Jedi Temple are liberated by Jedi and Republic forces.[73]\n",
    "        The Brotherhood of Darkness,[82] an army of the Sith in which Darth Bane served,[83] are defeated by the Jedi's Army of Light[82] as a result of infighting amongst themselves.[84] The Sith, who once numbered thousands,[85] are driven into hiding[17] and are eventually thought extinct.[86]\n",
    "    The sole Sith survivor, Darth Bane,[87] creates the Grand Plan—a plot to destroy the Jedi and the Republic from within for the coming of Sith rule over the galaxy[88]—and establishes the[89] Rule of Two,[36] a lineage of Sith who would operate in the shadows, preserving the Sith's vendetta against the Jedi whilst preparing for their own return. Centuries before the Clone Wars, the Rule of Two is revealed to the Jedi Order, though still they presume the Sith's eradication and believe that Bane's plan is ruined with his defeat[89] allegedly at the hands of his apprentice, Darth Zannah, in a duel on the Inner Rim planet Ambria. This pattern is repeated by nearly all Sith thereafter.[90]\n",
    "    The Sith Lord becomes the last of his kind to be laid to rest on Moraband's Valley of the Dark Lords.[89]\n",
    "    The Sith Wars waged between the Republic and the Sith Empire[91] has ended by this point.[92] The Sith Wars saw the participation of the Jedi Order on the side of the Republic[8] as well as the participation of the Chiss Ascendancy, which encountered multiple alien species before retreating to their borders.[91] The Jedi Cervil the Uncanny had left behind testimonies about lightwhips being effective against the Sith's Forbidden Forms,[93] and Ithorian population of Auratera continues restoring the world to its natural state following the Sith Wars.[8]\n",
    "\n",
    "c. 1022 BBY\n",
    "\n",
    "    The Amaxine warriors disappear from the known galaxy.[21]\n",
    "\n",
    "c. 1000 BBY\n",
    "\n",
    "    The Massassi become extinct.[21]\n",
    "    The translation of Sith runes is outlawed.[21]\n",
    "    In the aftermath of the Corsair Wars, Master Oo'ob breaks with Jedi doctrine, pursuing a pre-emptive method of dealing with threats to galactic peace. He and his partner, noted crystallist Var-Whill, develop the Farkiller, and use it to kill a number of \"emergent\" despots. Within the decade, the Jedi Council pronounces them apostate and eventually purges them,[94] with Oo'ob's expulsion taking place around 1000 BBY.[21]\n",
    "\"\"\""
   ]
  },
  {
   "cell_type": "code",
   "execution_count": 72,
   "id": "7980dd68-68be-4d8d-bb4a-ffc5f91cc829",
   "metadata": {},
   "outputs": [
    {
     "data": {
      "text/plain": [
       "'\\nDefeat of the Sith (1032 BBY)\\n\\n    1032 BBY[21]\\n        The Jedi-Sith War[81] ends with the Jedi Order and Republic forces victorious.[73]\\n            Coruscant and the Jedi Temple had been occupied by the Sith as part of the war[73] and the Darksaber stolen from the temple by Mandalorians.[74]\\n            Mandalore mural\\n\\n        A Mandalorian mural depicts the slaying of a Jedi\\n        By this point, Coruscant and the Jedi Temple are liberated by Jedi and Republic forces.[73]\\n        The Brotherhood of Darkness,[82] an army of the Sith in which Darth Bane served,[83] are defeated by the Jedi\\'s Army of Light[82] as a result of infighting amongst themselves.[84] The Sith, who once numbered thousands,[85] are driven into hiding[17] and are eventually thought extinct.[86]\\n    The sole Sith survivor, Darth Bane,[87] creates the Grand Plan—a plot to destroy the Jedi and the Republic from within for the coming of Sith rule over the galaxy[88]—and establishes the[89] Rule of Two,[36] a lineage of Sith who would operate in the shadows, preserving the Sith\\'s vendetta against the Jedi whilst preparing for their own return. Centuries before the Clone Wars, the Rule of Two is revealed to the Jedi Order, though still they presume the Sith\\'s eradication and believe that Bane\\'s plan is ruined with his defeat[89] allegedly at the hands of his apprentice, Darth Zannah, in a duel on the Inner Rim planet Ambria. This pattern is repeated by nearly all Sith thereafter.[90]\\n    The Sith Lord becomes the last of his kind to be laid to rest on Moraband\\'s Valley of the Dark Lords.[89]\\n    The Sith Wars waged between the Republic and the Sith Empire[91] has ended by this point.[92] The Sith Wars saw the participation of the Jedi Order on the side of the Republic[8] as well as the participation of the Chiss Ascendancy, which encountered multiple alien species before retreating to their borders.[91] The Jedi Cervil the Uncanny had left behind testimonies about lightwhips being effective against the Sith\\'s Forbidden Forms,[93] and Ithorian population of Auratera continues restoring the world to its natural state following the Sith Wars.[8]\\n\\nc. 1022 BBY\\n\\n    The Amaxine warriors disappear from the known galaxy.[21]\\n\\nc. 1000 BBY\\n\\n    The Massassi become extinct.[21]\\n    The translation of Sith runes is outlawed.[21]\\n    In the aftermath of the Corsair Wars, Master Oo\\'ob breaks with Jedi doctrine, pursuing a pre-emptive method of dealing with threats to galactic peace. He and his partner, noted crystallist Var-Whill, develop the Farkiller, and use it to kill a number of \"emergent\" despots. Within the decade, the Jedi Council pronounces them apostate and eventually purges them,[94] with Oo\\'ob\\'s expulsion taking place around 1000 BBY.[21]\\n'"
      ]
     },
     "execution_count": 72,
     "metadata": {},
     "output_type": "execute_result"
    }
   ],
   "source": [
    "paragraph"
   ]
  },
  {
   "cell_type": "code",
   "execution_count": 24,
   "id": "3ac64d4e-0e60-4b9c-a8ca-e7411dcd4f19",
   "metadata": {},
   "outputs": [],
   "source": [
    "import re"
   ]
  },
  {
   "cell_type": "code",
   "execution_count": 25,
   "id": "a57c4539-a608-4772-ad1e-d75f5954f756",
   "metadata": {},
   "outputs": [],
   "source": [
    "from nltk.stem import PorterStemmer\n",
    "from sklearn.feature_extraction.text import CountVectorizer\n",
    "from nltk.corpus import stopwords"
   ]
  },
  {
   "cell_type": "code",
   "execution_count": 26,
   "id": "4ebde660-18f7-4faf-aae5-14e367b52916",
   "metadata": {},
   "outputs": [],
   "source": [
    "from nltk.tokenize import sent_tokenize"
   ]
  },
  {
   "cell_type": "code",
   "execution_count": 27,
   "id": "3fba1ced-2fbb-45a9-aa4b-6ad196c9feac",
   "metadata": {},
   "outputs": [
    {
     "name": "stderr",
     "output_type": "stream",
     "text": [
      "[nltk_data] Downloading package punkt to\n",
      "[nltk_data]     C:\\Users\\tejas\\AppData\\Roaming\\nltk_data...\n",
      "[nltk_data]   Package punkt is already up-to-date!\n",
      "[nltk_data] Downloading package punkt_tab to\n",
      "[nltk_data]     C:\\Users\\tejas\\AppData\\Roaming\\nltk_data...\n",
      "[nltk_data]   Package punkt_tab is already up-to-date!\n"
     ]
    }
   ],
   "source": [
    "nltk.download('punkt')\n",
    "nltk.download('punkt_tab')\n",
    "\n",
    "from nltk.tokenize import sent_tokenize"
   ]
  },
  {
   "cell_type": "code",
   "execution_count": 73,
   "id": "4b6425fd-7dd9-4656-b573-006c0047bd1e",
   "metadata": {},
   "outputs": [],
   "source": [
    "sentences = nltk.sent_tokenize(paragraph)"
   ]
  },
  {
   "cell_type": "code",
   "execution_count": 74,
   "id": "9afdbcf1-0312-47c2-83f5-8c26c3b15152",
   "metadata": {},
   "outputs": [
    {
     "data": {
      "text/plain": [
       "19"
      ]
     },
     "execution_count": 74,
     "metadata": {},
     "output_type": "execute_result"
    }
   ],
   "source": [
    "len(sentences)"
   ]
  },
  {
   "cell_type": "code",
   "execution_count": 75,
   "id": "8e4c2fc6-153e-47d6-a1a9-bf54fb52ea39",
   "metadata": {},
   "outputs": [],
   "source": [
    "corpus = []\n",
    "for s in sentences:\n",
    "    review = re.sub(r\"[^a-zA-Z]\", \" \", s)\n",
    "    review=review.lower()\n",
    "    corpus.append(review)"
   ]
  },
  {
   "cell_type": "code",
   "execution_count": 76,
   "id": "65c5532d-8de7-4aeb-97e8-544d0756a60a",
   "metadata": {},
   "outputs": [
    {
     "data": {
      "text/plain": [
       "[' defeat of the sith       bby            bby             the jedi sith war     ends with the jedi order and republic forces victorious ',\n",
       " '                 coruscant and the jedi temple had been occupied by the sith as part of the war     and the darksaber stolen from the temple by mandalorians ',\n",
       " '                 mandalore mural          a mandalorian mural depicts the slaying of a jedi         by this point  coruscant and the jedi temple are liberated by jedi and republic forces ',\n",
       " '             the brotherhood of darkness      an army of the sith in which darth bane served      are defeated by the jedi s army of light     as a result of infighting amongst themselves ',\n",
       " '     the sith  who once numbered thousands      are driven into hiding     and are eventually thought extinct ',\n",
       " '         the sole sith survivor  darth bane      creates the grand plan a plot to destroy the jedi and the republic from within for the coming of sith rule over the galaxy     and establishes the     rule of two      a lineage of sith who would operate in the shadows  preserving the sith s vendetta against the jedi whilst preparing for their own return ',\n",
       " 'centuries before the clone wars  the rule of two is revealed to the jedi order  though still they presume the sith s eradication and believe that bane s plan is ruined with his defeat     allegedly at the hands of his apprentice  darth zannah  in a duel on the inner rim planet ambria ',\n",
       " 'this pattern is repeated by nearly all sith thereafter ',\n",
       " '         the sith lord becomes the last of his kind to be laid to rest on moraband s valley of the dark lords ',\n",
       " '         the sith wars waged between the republic and the sith empire     has ended by this point ',\n",
       " '     the sith wars saw the participation of the jedi order on the side of the republic    as well as the participation of the chiss ascendancy  which encountered multiple alien species before retreating to their borders ',\n",
       " '     the jedi cervil the uncanny had left behind testimonies about lightwhips being effective against the sith s forbidden forms      and ithorian population of auratera continues restoring the world to its natural state following the sith wars ',\n",
       " '     c       bby      the amaxine warriors disappear from the known galaxy ',\n",
       " '      c       bby      the massassi become extinct ',\n",
       " '         the translation of sith runes is outlawed ',\n",
       " '         in the aftermath of the corsair wars  master oo ob breaks with jedi doctrine  pursuing a pre emptive method of dealing with threats to galactic peace ',\n",
       " 'he and his partner  noted crystallist var whill  develop the farkiller  and use it to kill a number of  emergent  despots ',\n",
       " 'within the decade  the jedi council pronounces them apostate and eventually purges them      with oo ob s expulsion taking place around      bby ',\n",
       " '    ']"
      ]
     },
     "execution_count": 76,
     "metadata": {},
     "output_type": "execute_result"
    }
   ],
   "source": [
    "corpus"
   ]
  },
  {
   "cell_type": "code",
   "execution_count": 77,
   "id": "73e3d534-98f2-465e-bf4e-6c369b10965b",
   "metadata": {},
   "outputs": [],
   "source": [
    "stemmer = PorterStemmer()"
   ]
  },
  {
   "cell_type": "code",
   "execution_count": 78,
   "id": "31440354-e3cd-4d2e-8f59-e067077a1a4b",
   "metadata": {},
   "outputs": [
    {
     "data": {
      "text/plain": [
       "'king of the jungl'"
      ]
     },
     "execution_count": 78,
     "metadata": {},
     "output_type": "execute_result"
    }
   ],
   "source": [
    "stemmer.stem('king of the jungle')"
   ]
  },
  {
   "cell_type": "code",
   "execution_count": 79,
   "id": "67b0be4b-d518-4bf9-a38c-2507be6e283a",
   "metadata": {
    "scrolled": true
   },
   "outputs": [
    {
     "name": "stdout",
     "output_type": "stream",
     "text": [
      "defeat\n",
      "sith\n",
      "bbi\n",
      "bbi\n",
      "jedi\n",
      "sith\n",
      "war\n",
      "end\n",
      "jedi\n",
      "order\n",
      "republ\n",
      "forc\n",
      "victori\n",
      "corusc\n",
      "jedi\n",
      "templ\n",
      "occupi\n",
      "sith\n",
      "part\n",
      "war\n",
      "darksab\n",
      "stolen\n",
      "templ\n",
      "mandalorian\n",
      "mandalor\n",
      "mural\n",
      "mandalorian\n",
      "mural\n",
      "depict\n",
      "slay\n",
      "jedi\n",
      "point\n",
      "corusc\n",
      "jedi\n",
      "templ\n",
      "liber\n",
      "jedi\n",
      "republ\n",
      "forc\n",
      "brotherhood\n",
      "dark\n",
      "armi\n",
      "sith\n",
      "darth\n",
      "bane\n",
      "serv\n",
      "defeat\n",
      "jedi\n",
      "armi\n",
      "light\n",
      "result\n",
      "infight\n",
      "amongst\n",
      "sith\n",
      "number\n",
      "thousand\n",
      "driven\n",
      "hide\n",
      "eventu\n",
      "thought\n",
      "extinct\n",
      "sole\n",
      "sith\n",
      "survivor\n",
      "darth\n",
      "bane\n",
      "creat\n",
      "grand\n",
      "plan\n",
      "plot\n",
      "destroy\n",
      "jedi\n",
      "republ\n",
      "within\n",
      "come\n",
      "sith\n",
      "rule\n",
      "galaxi\n",
      "establish\n",
      "rule\n",
      "two\n",
      "lineag\n",
      "sith\n",
      "would\n",
      "oper\n",
      "shadow\n",
      "preserv\n",
      "sith\n",
      "vendetta\n",
      "jedi\n",
      "whilst\n",
      "prepar\n",
      "return\n",
      "centuri\n",
      "clone\n",
      "war\n",
      "rule\n",
      "two\n",
      "reveal\n",
      "jedi\n",
      "order\n",
      "though\n",
      "still\n",
      "presum\n",
      "sith\n",
      "erad\n",
      "believ\n",
      "bane\n",
      "plan\n",
      "ruin\n",
      "defeat\n",
      "allegedli\n",
      "hand\n",
      "apprentic\n",
      "darth\n",
      "zannah\n",
      "duel\n",
      "inner\n",
      "rim\n",
      "planet\n",
      "ambria\n",
      "pattern\n",
      "repeat\n",
      "nearli\n",
      "sith\n",
      "thereaft\n",
      "sith\n",
      "lord\n",
      "becom\n",
      "last\n",
      "kind\n",
      "laid\n",
      "rest\n",
      "moraband\n",
      "valley\n",
      "dark\n",
      "lord\n",
      "sith\n",
      "war\n",
      "wage\n",
      "republ\n",
      "sith\n",
      "empir\n",
      "end\n",
      "point\n",
      "sith\n",
      "war\n",
      "saw\n",
      "particip\n",
      "jedi\n",
      "order\n",
      "side\n",
      "republ\n",
      "well\n",
      "particip\n",
      "chiss\n",
      "ascend\n",
      "encount\n",
      "multipl\n",
      "alien\n",
      "speci\n",
      "retreat\n",
      "border\n",
      "jedi\n",
      "cervil\n",
      "uncanni\n",
      "left\n",
      "behind\n",
      "testimoni\n",
      "lightwhip\n",
      "effect\n",
      "sith\n",
      "forbidden\n",
      "form\n",
      "ithorian\n",
      "popul\n",
      "auratera\n",
      "continu\n",
      "restor\n",
      "world\n",
      "natur\n",
      "state\n",
      "follow\n",
      "sith\n",
      "war\n",
      "c\n",
      "bbi\n",
      "amaxin\n",
      "warrior\n",
      "disappear\n",
      "known\n",
      "galaxi\n",
      "c\n",
      "bbi\n",
      "massassi\n",
      "becom\n",
      "extinct\n",
      "translat\n",
      "sith\n",
      "rune\n",
      "outlaw\n",
      "aftermath\n",
      "corsair\n",
      "war\n",
      "master\n",
      "oo\n",
      "ob\n",
      "break\n",
      "jedi\n",
      "doctrin\n",
      "pursu\n",
      "pre\n",
      "emptiv\n",
      "method\n",
      "deal\n",
      "threat\n",
      "galact\n",
      "peac\n",
      "partner\n",
      "note\n",
      "crystallist\n",
      "var\n",
      "whill\n",
      "develop\n",
      "farkil\n",
      "use\n",
      "kill\n",
      "number\n",
      "emerg\n",
      "despot\n",
      "within\n",
      "decad\n",
      "jedi\n",
      "council\n",
      "pronounc\n",
      "apost\n",
      "eventu\n",
      "purg\n",
      "oo\n",
      "ob\n",
      "expuls\n",
      "take\n",
      "place\n",
      "around\n",
      "bbi\n"
     ]
    }
   ],
   "source": [
    "for i in corpus:\n",
    "    words=nltk.word_tokenize(i)\n",
    "    for word in words:\n",
    "        if word not in set(stopwords.words('english')):\n",
    "            print(stemmer.stem(word))"
   ]
  },
  {
   "cell_type": "code",
   "execution_count": 94,
   "id": "4ec5493e-34be-478d-b8b0-d10bd7dfce62",
   "metadata": {},
   "outputs": [],
   "source": [
    "cv = CountVectorizer(binary=False)"
   ]
  },
  {
   "cell_type": "code",
   "execution_count": 95,
   "id": "e613d5f6-3d51-49de-8757-7ef32def5f07",
   "metadata": {},
   "outputs": [],
   "source": [
    "X = cv.fit_transform(corpus)"
   ]
  },
  {
   "cell_type": "code",
   "execution_count": 96,
   "id": "fda95df0-5123-4646-a8a8-14846122b2c3",
   "metadata": {
    "scrolled": true
   },
   "outputs": [
    {
     "data": {
      "text/plain": [
       "{'defeat': 52,\n",
       " 'of': 127,\n",
       " 'the': 182,\n",
       " 'sith': 170,\n",
       " 'bby': 21,\n",
       " 'jedi': 98,\n",
       " 'war': 203,\n",
       " 'ends': 68,\n",
       " 'with': 211,\n",
       " 'order': 132,\n",
       " 'and': 10,\n",
       " 'republic': 155,\n",
       " 'forces': 78,\n",
       " 'victorious': 201,\n",
       " 'coruscant': 42,\n",
       " 'temple': 179,\n",
       " 'had': 84,\n",
       " 'been': 25,\n",
       " 'occupied': 126,\n",
       " 'by': 34,\n",
       " 'as': 16,\n",
       " 'part': 136,\n",
       " 'darksaber': 48,\n",
       " 'stolen': 176,\n",
       " 'from': 80,\n",
       " 'mandalorians': 113,\n",
       " 'mandalore': 111,\n",
       " 'mural': 119,\n",
       " 'mandalorian': 112,\n",
       " 'depicts': 54,\n",
       " 'slaying': 171,\n",
       " 'this': 188,\n",
       " 'point': 145,\n",
       " 'are': 13,\n",
       " 'liberated': 105,\n",
       " 'brotherhood': 33,\n",
       " 'darkness': 47,\n",
       " 'an': 9,\n",
       " 'army': 14,\n",
       " 'in': 90,\n",
       " 'which': 207,\n",
       " 'darth': 49,\n",
       " 'bane': 20,\n",
       " 'served': 167,\n",
       " 'defeated': 53,\n",
       " 'light': 106,\n",
       " 'result': 158,\n",
       " 'infighting': 91,\n",
       " 'amongst': 8,\n",
       " 'themselves': 185,\n",
       " 'who': 210,\n",
       " 'once': 129,\n",
       " 'numbered': 124,\n",
       " 'thousands': 191,\n",
       " 'driven': 60,\n",
       " 'into': 93,\n",
       " 'hiding': 88,\n",
       " 'eventually': 71,\n",
       " 'thought': 190,\n",
       " 'extinct': 73,\n",
       " 'sole': 172,\n",
       " 'survivor': 177,\n",
       " 'creates': 44,\n",
       " 'grand': 83,\n",
       " 'plan': 142,\n",
       " 'plot': 144,\n",
       " 'to': 193,\n",
       " 'destroy': 56,\n",
       " 'within': 212,\n",
       " 'for': 76,\n",
       " 'coming': 39,\n",
       " 'rule': 164,\n",
       " 'over': 134,\n",
       " 'galaxy': 82,\n",
       " 'establishes': 70,\n",
       " 'two': 195,\n",
       " 'lineage': 108,\n",
       " 'would': 214,\n",
       " 'operate': 131,\n",
       " 'shadows': 168,\n",
       " 'preserving': 149,\n",
       " 'vendetta': 200,\n",
       " 'against': 2,\n",
       " 'whilst': 209,\n",
       " 'preparing': 148,\n",
       " 'their': 183,\n",
       " 'own': 135,\n",
       " 'return': 160,\n",
       " 'centuries': 35,\n",
       " 'before': 26,\n",
       " 'clone': 38,\n",
       " 'wars': 205,\n",
       " 'is': 94,\n",
       " 'revealed': 161,\n",
       " 'though': 189,\n",
       " 'still': 175,\n",
       " 'they': 187,\n",
       " 'presume': 150,\n",
       " 'eradication': 69,\n",
       " 'believe': 29,\n",
       " 'that': 181,\n",
       " 'ruined': 163,\n",
       " 'his': 89,\n",
       " 'allegedly': 5,\n",
       " 'at': 18,\n",
       " 'hands': 85,\n",
       " 'apprentice': 12,\n",
       " 'zannah': 215,\n",
       " 'duel': 61,\n",
       " 'on': 128,\n",
       " 'inner': 92,\n",
       " 'rim': 162,\n",
       " 'planet': 143,\n",
       " 'ambria': 7,\n",
       " 'pattern': 139,\n",
       " 'repeated': 154,\n",
       " 'nearly': 121,\n",
       " 'all': 4,\n",
       " 'thereafter': 186,\n",
       " 'lord': 109,\n",
       " 'becomes': 24,\n",
       " 'last': 103,\n",
       " 'kind': 100,\n",
       " 'be': 22,\n",
       " 'laid': 102,\n",
       " 'rest': 156,\n",
       " 'moraband': 117,\n",
       " 'valley': 198,\n",
       " 'dark': 46,\n",
       " 'lords': 110,\n",
       " 'waged': 202,\n",
       " 'between': 30,\n",
       " 'empire': 64,\n",
       " 'has': 86,\n",
       " 'ended': 67,\n",
       " 'saw': 166,\n",
       " 'participation': 137,\n",
       " 'side': 169,\n",
       " 'well': 206,\n",
       " 'chiss': 37,\n",
       " 'ascendancy': 17,\n",
       " 'encountered': 66,\n",
       " 'multiple': 118,\n",
       " 'alien': 3,\n",
       " 'species': 173,\n",
       " 'retreating': 159,\n",
       " 'borders': 31,\n",
       " 'cervil': 36,\n",
       " 'uncanny': 196,\n",
       " 'left': 104,\n",
       " 'behind': 27,\n",
       " 'testimonies': 180,\n",
       " 'about': 0,\n",
       " 'lightwhips': 107,\n",
       " 'being': 28,\n",
       " 'effective': 62,\n",
       " 'forbidden': 77,\n",
       " 'forms': 79,\n",
       " 'ithorian': 96,\n",
       " 'population': 146,\n",
       " 'auratera': 19,\n",
       " 'continues': 40,\n",
       " 'restoring': 157,\n",
       " 'world': 213,\n",
       " 'its': 97,\n",
       " 'natural': 120,\n",
       " 'state': 174,\n",
       " 'following': 75,\n",
       " 'amaxine': 6,\n",
       " 'warriors': 204,\n",
       " 'disappear': 58,\n",
       " 'known': 101,\n",
       " 'massassi': 114,\n",
       " 'become': 23,\n",
       " 'translation': 194,\n",
       " 'runes': 165,\n",
       " 'outlawed': 133,\n",
       " 'aftermath': 1,\n",
       " 'corsair': 41,\n",
       " 'master': 115,\n",
       " 'oo': 130,\n",
       " 'ob': 125,\n",
       " 'breaks': 32,\n",
       " 'doctrine': 59,\n",
       " 'pursuing': 153,\n",
       " 'pre': 147,\n",
       " 'emptive': 65,\n",
       " 'method': 116,\n",
       " 'dealing': 50,\n",
       " 'threats': 192,\n",
       " 'galactic': 81,\n",
       " 'peace': 140,\n",
       " 'he': 87,\n",
       " 'partner': 138,\n",
       " 'noted': 122,\n",
       " 'crystallist': 45,\n",
       " 'var': 199,\n",
       " 'whill': 208,\n",
       " 'develop': 57,\n",
       " 'farkiller': 74,\n",
       " 'use': 197,\n",
       " 'it': 95,\n",
       " 'kill': 99,\n",
       " 'number': 123,\n",
       " 'emergent': 63,\n",
       " 'despots': 55,\n",
       " 'decade': 51,\n",
       " 'council': 43,\n",
       " 'pronounces': 151,\n",
       " 'them': 184,\n",
       " 'apostate': 11,\n",
       " 'purges': 152,\n",
       " 'expulsion': 72,\n",
       " 'taking': 178,\n",
       " 'place': 141,\n",
       " 'around': 15}"
      ]
     },
     "execution_count": 96,
     "metadata": {},
     "output_type": "execute_result"
    }
   ],
   "source": [
    "cv.vocabulary_"
   ]
  },
  {
   "cell_type": "code",
   "execution_count": 97,
   "id": "95801601-c29e-410b-ac6a-b86a26ec85b6",
   "metadata": {},
   "outputs": [
    {
     "data": {
      "text/plain": [
       "' defeat of the sith       bby            bby             the jedi sith war     ends with the jedi order and republic forces victorious '"
      ]
     },
     "execution_count": 97,
     "metadata": {},
     "output_type": "execute_result"
    }
   ],
   "source": [
    "corpus[0]"
   ]
  },
  {
   "cell_type": "code",
   "execution_count": 98,
   "id": "56245743-c483-4053-b35c-8c79983d3c22",
   "metadata": {},
   "outputs": [
    {
     "data": {
      "text/plain": [
       "array([[0, 0, 0, 0, 0, 0, 0, 0, 0, 0, 1, 0, 0, 0, 0, 0, 0, 0, 0, 0, 0, 2,\n",
       "        0, 0, 0, 0, 0, 0, 0, 0, 0, 0, 0, 0, 0, 0, 0, 0, 0, 0, 0, 0, 0, 0,\n",
       "        0, 0, 0, 0, 0, 0, 0, 0, 1, 0, 0, 0, 0, 0, 0, 0, 0, 0, 0, 0, 0, 0,\n",
       "        0, 0, 1, 0, 0, 0, 0, 0, 0, 0, 0, 0, 1, 0, 0, 0, 0, 0, 0, 0, 0, 0,\n",
       "        0, 0, 0, 0, 0, 0, 0, 0, 0, 0, 2, 0, 0, 0, 0, 0, 0, 0, 0, 0, 0, 0,\n",
       "        0, 0, 0, 0, 0, 0, 0, 0, 0, 0, 0, 0, 0, 0, 0, 0, 0, 1, 0, 0, 0, 0,\n",
       "        1, 0, 0, 0, 0, 0, 0, 0, 0, 0, 0, 0, 0, 0, 0, 0, 0, 0, 0, 0, 0, 0,\n",
       "        0, 1, 0, 0, 0, 0, 0, 0, 0, 0, 0, 0, 0, 0, 0, 0, 2, 0, 0, 0, 0, 0,\n",
       "        0, 0, 0, 0, 0, 0, 3, 0, 0, 0, 0, 0, 0, 0, 0, 0, 0, 0, 0, 0, 0, 0,\n",
       "        0, 0, 0, 1, 0, 1, 0, 0, 0, 0, 0, 0, 0, 1, 0, 0, 0, 0]],\n",
       "      dtype=int64)"
      ]
     },
     "execution_count": 98,
     "metadata": {},
     "output_type": "execute_result"
    }
   ],
   "source": [
    "X[0].toarray()"
   ]
  },
  {
   "cell_type": "code",
   "execution_count": 99,
   "id": "bf18e9c2-f0bf-4c1c-b56d-4a89205fa693",
   "metadata": {},
   "outputs": [],
   "source": [
    "corpus = []\n",
    "for i in sentences:\n",
    "    review = re.sub(r\"[^a-zA-Z]\",\" \",i)\n",
    "    review = review.lower()\n",
    "    review = review.split()\n",
    "    review = [stemmer.stem(word) for word in review if not word in stopwords.words('english')]\n",
    "    corpus.append(review)"
   ]
  },
  {
   "cell_type": "code",
   "execution_count": 101,
   "id": "bcd042a1-70f2-4ee3-807f-fb3ef7012fb6",
   "metadata": {
    "scrolled": true
   },
   "outputs": [
    {
     "data": {
      "text/plain": [
       "['corusc',\n",
       " 'jedi',\n",
       " 'templ',\n",
       " 'occupi',\n",
       " 'sith',\n",
       " 'part',\n",
       " 'war',\n",
       " 'darksab',\n",
       " 'stolen',\n",
       " 'templ',\n",
       " 'mandalorian']"
      ]
     },
     "execution_count": 101,
     "metadata": {},
     "output_type": "execute_result"
    }
   ],
   "source": [
    "corpus[1]"
   ]
  },
  {
   "cell_type": "code",
   "execution_count": null,
   "id": "5a2beb32-4542-4a2f-a38f-041df10d1e40",
   "metadata": {},
   "outputs": [],
   "source": []
  },
  {
   "cell_type": "code",
   "execution_count": null,
   "id": "3d63fc25-0a84-46cc-80cd-ba0d86567343",
   "metadata": {},
   "outputs": [],
   "source": []
  }
 ],
 "metadata": {
  "kernelspec": {
   "display_name": "Python 3 (ipykernel)",
   "language": "python",
   "name": "python3"
  },
  "language_info": {
   "codemirror_mode": {
    "name": "ipython",
    "version": 3
   },
   "file_extension": ".py",
   "mimetype": "text/x-python",
   "name": "python",
   "nbconvert_exporter": "python",
   "pygments_lexer": "ipython3",
   "version": "3.11.9"
  }
 },
 "nbformat": 4,
 "nbformat_minor": 5
}
