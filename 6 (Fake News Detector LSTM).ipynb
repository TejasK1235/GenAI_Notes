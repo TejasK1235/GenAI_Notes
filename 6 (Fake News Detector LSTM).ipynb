{
 "cells": [
  {
   "cell_type": "code",
   "execution_count": 3,
   "id": "42738abf-ca17-472e-8dee-6a4e15aacc3b",
   "metadata": {},
   "outputs": [],
   "source": [
    "import numpy as np\n",
    "import pandas as pd"
   ]
  },
  {
   "cell_type": "code",
   "execution_count": 4,
   "id": "7cc19a06-2a0b-4c99-bd6b-5fe5489eef33",
   "metadata": {},
   "outputs": [],
   "source": [
    "df = pd.read_csv('xy_train.csv')"
   ]
  },
  {
   "cell_type": "code",
   "execution_count": 5,
   "id": "39cd1b25-e21d-4123-b43f-3731fe346ff9",
   "metadata": {},
   "outputs": [
    {
     "data": {
      "text/html": [
       "<div>\n",
       "<style scoped>\n",
       "    .dataframe tbody tr th:only-of-type {\n",
       "        vertical-align: middle;\n",
       "    }\n",
       "\n",
       "    .dataframe tbody tr th {\n",
       "        vertical-align: top;\n",
       "    }\n",
       "\n",
       "    .dataframe thead th {\n",
       "        text-align: right;\n",
       "    }\n",
       "</style>\n",
       "<table border=\"1\" class=\"dataframe\">\n",
       "  <thead>\n",
       "    <tr style=\"text-align: right;\">\n",
       "      <th></th>\n",
       "      <th>ID</th>\n",
       "      <th>text</th>\n",
       "      <th>label</th>\n",
       "    </tr>\n",
       "  </thead>\n",
       "  <tbody>\n",
       "    <tr>\n",
       "      <th>0</th>\n",
       "      <td>0</td>\n",
       "      <td>Americans Aren't Sure If Flight 370 Vanished T...</td>\n",
       "      <td>1</td>\n",
       "    </tr>\n",
       "    <tr>\n",
       "      <th>1</th>\n",
       "      <td>1</td>\n",
       "      <td>Pope Leo X offering indulgences to sinners sho...</td>\n",
       "      <td>0</td>\n",
       "    </tr>\n",
       "    <tr>\n",
       "      <th>2</th>\n",
       "      <td>2</td>\n",
       "      <td>News: 5 Uplifting Hypotheticals Of What Could ...</td>\n",
       "      <td>0</td>\n",
       "    </tr>\n",
       "    <tr>\n",
       "      <th>3</th>\n",
       "      <td>3</td>\n",
       "      <td>George W. Bush and Jeb Bush at a campaign stop...</td>\n",
       "      <td>0</td>\n",
       "    </tr>\n",
       "    <tr>\n",
       "      <th>4</th>\n",
       "      <td>4</td>\n",
       "      <td>The WADA requesting their fair share from Lanc...</td>\n",
       "      <td>0</td>\n",
       "    </tr>\n",
       "  </tbody>\n",
       "</table>\n",
       "</div>"
      ],
      "text/plain": [
       "   ID                                               text  label\n",
       "0   0  Americans Aren't Sure If Flight 370 Vanished T...      1\n",
       "1   1  Pope Leo X offering indulgences to sinners sho...      0\n",
       "2   2  News: 5 Uplifting Hypotheticals Of What Could ...      0\n",
       "3   3  George W. Bush and Jeb Bush at a campaign stop...      0\n",
       "4   4  The WADA requesting their fair share from Lanc...      0"
      ]
     },
     "execution_count": 5,
     "metadata": {},
     "output_type": "execute_result"
    }
   ],
   "source": [
    "df.head()"
   ]
  },
  {
   "cell_type": "code",
   "execution_count": 6,
   "id": "a367b682-189f-45e1-a05c-28a46efe6a04",
   "metadata": {},
   "outputs": [
    {
     "name": "stdout",
     "output_type": "stream",
     "text": [
      "<class 'pandas.core.frame.DataFrame'>\n",
      "RangeIndex: 48000 entries, 0 to 47999\n",
      "Data columns (total 3 columns):\n",
      " #   Column  Non-Null Count  Dtype \n",
      "---  ------  --------------  ----- \n",
      " 0   ID      48000 non-null  int64 \n",
      " 1   text    48000 non-null  object\n",
      " 2   label   48000 non-null  int64 \n",
      "dtypes: int64(2), object(1)\n",
      "memory usage: 1.1+ MB\n"
     ]
    }
   ],
   "source": [
    "df.info()"
   ]
  },
  {
   "cell_type": "code",
   "execution_count": 7,
   "id": "1e2a6fbc-af3d-47c9-a01f-1e864b2a4aa6",
   "metadata": {},
   "outputs": [
    {
     "data": {
      "text/plain": [
       "str"
      ]
     },
     "execution_count": 7,
     "metadata": {},
     "output_type": "execute_result"
    }
   ],
   "source": [
    "type(df.text[0])"
   ]
  },
  {
   "cell_type": "code",
   "execution_count": 8,
   "id": "9286298a-5ab5-469c-8c2c-43303e7f9685",
   "metadata": {},
   "outputs": [
    {
     "data": {
      "text/plain": [
       "\"Americans Aren't Sure If Flight 370 Vanished Thanks to Aliens, Terrorists, or Hide-and-Seek\""
      ]
     },
     "execution_count": 8,
     "metadata": {},
     "output_type": "execute_result"
    }
   ],
   "source": [
    "df.text[0]"
   ]
  },
  {
   "cell_type": "code",
   "execution_count": 9,
   "id": "2a05f6c0-6433-496b-ab2a-1166d838d5bb",
   "metadata": {},
   "outputs": [
    {
     "data": {
      "text/plain": [
       "'Pope Leo X offering indulgences to sinners shortly before the protestant reformation (Circa 1516).'"
      ]
     },
     "execution_count": 9,
     "metadata": {},
     "output_type": "execute_result"
    }
   ],
   "source": [
    "df.text[1]"
   ]
  },
  {
   "cell_type": "code",
   "execution_count": 10,
   "id": "3dbabc15-d911-471e-9c1f-52e6d804d9e2",
   "metadata": {},
   "outputs": [
    {
     "data": {
      "text/plain": [
       "ID       0\n",
       "text     0\n",
       "label    0\n",
       "dtype: int64"
      ]
     },
     "execution_count": 10,
     "metadata": {},
     "output_type": "execute_result"
    }
   ],
   "source": [
    "df.isnull().sum()"
   ]
  },
  {
   "cell_type": "code",
   "execution_count": 11,
   "id": "dd5ade51-51de-4cbc-b97a-6942526e39db",
   "metadata": {},
   "outputs": [
    {
     "data": {
      "text/plain": [
       "(48000, 3)"
      ]
     },
     "execution_count": 11,
     "metadata": {},
     "output_type": "execute_result"
    }
   ],
   "source": [
    "df.shape"
   ]
  },
  {
   "cell_type": "code",
   "execution_count": 12,
   "id": "0afc5339-4180-4913-a7f5-fb43ef08e002",
   "metadata": {},
   "outputs": [
    {
     "data": {
      "text/plain": [
       "(187, 3)"
      ]
     },
     "execution_count": 12,
     "metadata": {},
     "output_type": "execute_result"
    }
   ],
   "source": [
    "df.query('label==2').shape"
   ]
  },
  {
   "cell_type": "code",
   "execution_count": 13,
   "id": "b40c1812-fc00-4166-8cce-5b4779751872",
   "metadata": {},
   "outputs": [
    {
     "data": {
      "text/plain": [
       "(22015, 3)"
      ]
     },
     "execution_count": 13,
     "metadata": {},
     "output_type": "execute_result"
    }
   ],
   "source": [
    "df.query('label==1').shape"
   ]
  },
  {
   "cell_type": "code",
   "execution_count": 14,
   "id": "b47aca6e-d7af-40bf-bca5-c1e133cb685f",
   "metadata": {},
   "outputs": [
    {
     "data": {
      "text/plain": [
       "(25798, 3)"
      ]
     },
     "execution_count": 14,
     "metadata": {},
     "output_type": "execute_result"
    }
   ],
   "source": [
    "df.query('label==0').shape"
   ]
  },
  {
   "cell_type": "code",
   "execution_count": 15,
   "id": "4bf01ada-7935-4978-abd0-391f5d5923db",
   "metadata": {
    "scrolled": true
   },
   "outputs": [],
   "source": [
    "temp = list(df.query('label==2').index)"
   ]
  },
  {
   "cell_type": "code",
   "execution_count": 16,
   "id": "97de1989-43c0-455e-9850-5a72635a190e",
   "metadata": {},
   "outputs": [],
   "source": [
    "df.drop(temp,axis=0,inplace=True)"
   ]
  },
  {
   "cell_type": "code",
   "execution_count": 17,
   "id": "1cc7786f-351c-4131-a03e-66c5f71908e0",
   "metadata": {},
   "outputs": [
    {
     "data": {
      "text/plain": [
       "(0, 3)"
      ]
     },
     "execution_count": 17,
     "metadata": {},
     "output_type": "execute_result"
    }
   ],
   "source": [
    "df.query('label==2').shape"
   ]
  },
  {
   "cell_type": "code",
   "execution_count": 18,
   "id": "1e318d70-bec2-49fe-ac30-40091bf17d30",
   "metadata": {},
   "outputs": [],
   "source": [
    "from tensorflow.keras.layers import Embedding,Dense,LSTM\n",
    "from tensorflow.keras.preprocessing.sequence import pad_sequences\n",
    "from tensorflow.keras.models import Sequential\n",
    "from tensorflow.keras.preprocessing.text import one_hot"
   ]
  },
  {
   "cell_type": "code",
   "execution_count": 19,
   "id": "230bf669-ce05-4570-b9f6-3c3c4023df66",
   "metadata": {},
   "outputs": [
    {
     "data": {
      "text/plain": [
       "[1, 2, 3]"
      ]
     },
     "execution_count": 19,
     "metadata": {},
     "output_type": "execute_result"
    }
   ],
   "source": [
    "[1,2,3]"
   ]
  },
  {
   "cell_type": "code",
   "execution_count": 20,
   "id": "2cb79152-b9fa-4366-b19b-2aeea760cd3e",
   "metadata": {},
   "outputs": [],
   "source": [
    "from nltk.corpus import stopwords\n",
    "from nltk.stem.porter import PorterStemmer\n",
    "import nltk\n",
    "import re"
   ]
  },
  {
   "cell_type": "code",
   "execution_count": 22,
   "id": "8ebcd1fb-4a47-409b-ac7b-1db2850ae7db",
   "metadata": {},
   "outputs": [
    {
     "data": {
      "text/html": [
       "<div>\n",
       "<style scoped>\n",
       "    .dataframe tbody tr th:only-of-type {\n",
       "        vertical-align: middle;\n",
       "    }\n",
       "\n",
       "    .dataframe tbody tr th {\n",
       "        vertical-align: top;\n",
       "    }\n",
       "\n",
       "    .dataframe thead th {\n",
       "        text-align: right;\n",
       "    }\n",
       "</style>\n",
       "<table border=\"1\" class=\"dataframe\">\n",
       "  <thead>\n",
       "    <tr style=\"text-align: right;\">\n",
       "      <th></th>\n",
       "      <th>ID</th>\n",
       "      <th>text</th>\n",
       "      <th>label</th>\n",
       "    </tr>\n",
       "  </thead>\n",
       "  <tbody>\n",
       "    <tr>\n",
       "      <th>0</th>\n",
       "      <td>0</td>\n",
       "      <td>Americans Aren't Sure If Flight 370 Vanished T...</td>\n",
       "      <td>1</td>\n",
       "    </tr>\n",
       "    <tr>\n",
       "      <th>1</th>\n",
       "      <td>1</td>\n",
       "      <td>Pope Leo X offering indulgences to sinners sho...</td>\n",
       "      <td>0</td>\n",
       "    </tr>\n",
       "    <tr>\n",
       "      <th>2</th>\n",
       "      <td>2</td>\n",
       "      <td>News: 5 Uplifting Hypotheticals Of What Could ...</td>\n",
       "      <td>0</td>\n",
       "    </tr>\n",
       "    <tr>\n",
       "      <th>3</th>\n",
       "      <td>3</td>\n",
       "      <td>George W. Bush and Jeb Bush at a campaign stop...</td>\n",
       "      <td>0</td>\n",
       "    </tr>\n",
       "    <tr>\n",
       "      <th>4</th>\n",
       "      <td>4</td>\n",
       "      <td>The WADA requesting their fair share from Lanc...</td>\n",
       "      <td>0</td>\n",
       "    </tr>\n",
       "  </tbody>\n",
       "</table>\n",
       "</div>"
      ],
      "text/plain": [
       "   ID                                               text  label\n",
       "0   0  Americans Aren't Sure If Flight 370 Vanished T...      1\n",
       "1   1  Pope Leo X offering indulgences to sinners sho...      0\n",
       "2   2  News: 5 Uplifting Hypotheticals Of What Could ...      0\n",
       "3   3  George W. Bush and Jeb Bush at a campaign stop...      0\n",
       "4   4  The WADA requesting their fair share from Lanc...      0"
      ]
     },
     "execution_count": 22,
     "metadata": {},
     "output_type": "execute_result"
    }
   ],
   "source": [
    "df.head()"
   ]
  },
  {
   "cell_type": "code",
   "execution_count": 23,
   "id": "21804f38-4848-435c-9a5c-7bed582e2723",
   "metadata": {},
   "outputs": [],
   "source": [
    "X = df.drop('label',axis=1)"
   ]
  },
  {
   "cell_type": "code",
   "execution_count": 25,
   "id": "2d6e8d8f-9a8e-4cf6-971e-82033d4ff36c",
   "metadata": {},
   "outputs": [],
   "source": [
    "y = df['label']"
   ]
  },
  {
   "cell_type": "code",
   "execution_count": 27,
   "id": "eba1a06c-ff3a-49ec-af0f-69c511050d96",
   "metadata": {},
   "outputs": [
    {
     "data": {
      "text/plain": [
       "((47813, 2), (47813,))"
      ]
     },
     "execution_count": 27,
     "metadata": {},
     "output_type": "execute_result"
    }
   ],
   "source": [
    "X.shape,y.shape"
   ]
  },
  {
   "cell_type": "code",
   "execution_count": 28,
   "id": "4d3d8337-e84c-4ebc-88c9-c71ff16cd22b",
   "metadata": {},
   "outputs": [],
   "source": [
    "messages = X.text"
   ]
  },
  {
   "cell_type": "code",
   "execution_count": 30,
   "id": "cfe3a9c7-84e5-44ad-9fc8-f4ff203e6f32",
   "metadata": {},
   "outputs": [
    {
     "data": {
      "text/plain": [
       "\"Americans Aren't Sure If Flight 370 Vanished Thanks to Aliens, Terrorists, or Hide-and-Seek\""
      ]
     },
     "execution_count": 30,
     "metadata": {},
     "output_type": "execute_result"
    }
   ],
   "source": [
    "messages[0]"
   ]
  },
  {
   "cell_type": "code",
   "execution_count": 31,
   "id": "d8e15d23-3a90-419d-8ae9-faa9e49b7c35",
   "metadata": {},
   "outputs": [],
   "source": [
    "stemmer = PorterStemmer()"
   ]
  },
  {
   "cell_type": "code",
   "execution_count": 35,
   "id": "1a3152c4-c1b2-462f-a191-75fc709f9044",
   "metadata": {},
   "outputs": [],
   "source": [
    "corpus = []\n",
    "for sent in messages:\n",
    "    review = re.sub('[^a-zA-Z]',' ',sent)\n",
    "    review = review.lower().split()\n",
    "\n",
    "    review = [stemmer.stem(word) for word in review if not word in stopwords.words('english')]\n",
    "    review = \" \".join(review)\n",
    "    corpus.append(review)"
   ]
  },
  {
   "cell_type": "code",
   "execution_count": 36,
   "id": "7e30d053-aa45-4be0-87b5-afa14ef586ca",
   "metadata": {
    "scrolled": true
   },
   "outputs": [
    {
     "data": {
      "text/plain": [
       "['american sure flight vanish thank alien terrorist hide seek',\n",
       " 'pope leo x offer indulg sinner shortli protest reform circa',\n",
       " 'news uplift hypothet could happen ban refuge use block actual go happen',\n",
       " 'georg w bush jeb bush campaign stop father reelect springfield il',\n",
       " 'wada request fair share lanc armstrong via sale live strong wristband',\n",
       " 'way water bottl filler colleg engin build glitch broke',\n",
       " 'made bio suppos parti box arm say projector caus projector caus projector overheat',\n",
       " 'employe break room found guin book world record free carton cigarett',\n",
       " 'henri kissing reveal plan scrub left wing sentiment chile recoloris',\n",
       " 'inclus win spacex success launch handicap access ramp orbit',\n",
       " 'psbattl putin holland merkel poroshenko peac talk ukrain februari',\n",
       " 'spacex attempt send first dildo space end failur launch ask went wrong musk said like throw hotdog hallway underestim girth back draw board',\n",
       " 'man geniu old camper renov pictur stori shamelessli lift imgur origin album link comment',\n",
       " 'apolog poster appear throughout castro san francisco day white night riot',\n",
       " 'said find simon bile jake tapper joe arpaio say',\n",
       " 'oklahoma man behead woman stab nd victim workplac fight day fire job',\n",
       " 'babi powder caus cancer anoth juri say ye unknown articl propos test admit neither conclus',\n",
       " 'elb vow dedic live strengthen friendship ussr usa never make war rememb meet elb soviet union date unknown',\n",
       " 'one dude chill scooter shirtless guy conjoin twin hang back',\n",
       " 'trump vow extens search find new dh director ideal person disord',\n",
       " 'woman perfect tinder date one shatter five simpl word stay away boyfriend',\n",
       " 'univers librari bubbl wrap pop stress simpl instruct',\n",
       " 'ecb surpris polici move sent shiver global stock market move went market anticip',\n",
       " 'christian mob lynch ate part johan de witt polit leader follow spinoza august colour',\n",
       " 'samantha delval california mother arrest two year old son test posit meth',\n",
       " 'american british canadian troop storm omaha beach fight back nazi',\n",
       " 'want man taunt polic facebook post et share l turn',\n",
       " 'hail san jose guy snowboard attach truck rope seem like fun',\n",
       " 'john boehner primari oppon hit lectil dysfunct ye serious',\n",
       " 'know pari attack perpetr immigr inform poster put hungarian gov ahead referendum call european refuge reloc scheme hungari',\n",
       " 'pregnant escap la vega concert shoot coupl welcom babi world',\n",
       " 'realiz presid assassin within year period side note assassin vacat fun read least',\n",
       " 'research forc scrap anoth sleep studi particip murder dream serial killer',\n",
       " 'nazi scientist tri find aryan blood sampl hitler blood circa colour',\n",
       " 'emma gonzalez attack nd amend support truck march live ralli color',\n",
       " 'neil degrass tyson say spacex custom elon musk send mother mar bring back aliv',\n",
       " 'amouranth ban twitch accident expos stream nsfw',\n",
       " 'women work wartim factori inspect newli manufactur sherman tank clutch plate',\n",
       " 'pope call trump cowardic perfect gift sign copi papal letter combat climat chang',\n",
       " 'town found potent cure ill commun town frome somerset cure involv intervent reduc isol amongst peopl health problem',\n",
       " 'giant fan grab fair ball possibl ruin life act ran toddler seriou',\n",
       " 'god countri unit state america cover bezbozhnik u stanka magazin',\n",
       " 'batman shown uncharacterist use gun sell war bond februari teenag american',\n",
       " 'dominican republ shirt factori set highest bar worker right altagracia apparel worker earn three time dr minimum wage altagracia worker inspir textil employe demand higher wage better work condit compani',\n",
       " 'stem school student burst spontan protest vigil highland ranch high school',\n",
       " 'would happen olymp ban russia u athlet would win medal',\n",
       " 'harvey weinstein previou job person trainer move movi product colour',\n",
       " 'bake breath life back south australia lake eyr basin ghost town farina eight week year',\n",
       " 'woman perform surgeri monarch butterfli broken wing next day surpris coolest way idea articl say noth',\n",
       " 'presid usa get inform germani declar war circa color',\n",
       " 'mother addict stepfath wife beater juvenil court judg power stori',\n",
       " 'poster celebr mozambiqu independ long live mozambiqu liber front struggl continu',\n",
       " 'vote macdonald punch cartoon zinoviev letter urg british communist promot revolut act sedit though consid forgeri leak press elect cost labour parti dearli caus landslid tori victori',\n",
       " 'make sens eat throw random stuff wild glad idea expens',\n",
       " 'communist friedrich engel inspir climbabl statu beard salford univers',\n",
       " 'higher pile father must higher pile see verdun satir cartoon depict kaiser crown princ wilhelm stand top huge pile dead bodi illustr great war',\n",
       " 'life femin ftw mattel releas new barbi get rich sell placenta wealthi chines businessmen',\n",
       " 'trump told stormi daniel like daughter porn star claim alleg affair',\n",
       " 'elon musk announc self exil mar resign tesla chairman septemb',\n",
       " 'teacher put year old toy collect bid ebay fundrais local child wheelchair',\n",
       " 'alli soldier mock hitler atop balconi reich chancelleri guy bottom right point laugh',\n",
       " 'life graph perfectli captur roll hill sprawl pastur mama girlhood sweet meadowgrass smell',\n",
       " 'yep someon immatur nsfw boss find glan nose offens',\n",
       " 'egalitarian galleri new york curat combat elit exhibit everyth follow open call art',\n",
       " 'friend long grape lunch tast like normal grape hand cm length scale',\n",
       " 'googli eye fell birthday card reveal creator photoshop eye socket instead',\n",
       " 'restaur hometown billi bass adopt center donat mechan sing fish receiv free meal',\n",
       " 'thought tree look like dude distress pet dinosaur squint look left',\n",
       " 'monument station london x box sausag clean cupboard storag licens',\n",
       " 'stranger donat k woman face petti theft case courthous fountain coin',\n",
       " 'believ hanz duti beauti day like anyth go happen oh well time',\n",
       " 'baldpat inn world largest collect key includ old key fort knox hitler hous',\n",
       " 'american see better food biggest benefit immigr bring u yougov poll find',\n",
       " 'life canin hero incred polic dog train haunt unsolv murder',\n",
       " 'sister also directli tie cameraman momentari feel misguid moral superior',\n",
       " 'dog skull vein depict photo credit judith lissenberg dog',\n",
       " 'chimp opinion run time still want kill eat jane goodal',\n",
       " 'american agent pass villag defend farmer union western imperialist unison nation secur forc czechoslovak socialist propaganda poster second half twentieth centuri author unknown',\n",
       " 'chines doctor done success mice head transplant say monkey next hope research eventu make procedur viabl option human patient',\n",
       " 'park garag stratospher vega seemingli endless shoe print wall',\n",
       " 'build hous entri largest privat underground research facil america',\n",
       " 'stori cat shelter run food went viral box pour around countri',\n",
       " 'scientist zurich admit anoth disastr justin bieber clone felt ethic duti keep subject satisfi favourit sippi cup xpost r wheredidthesodago',\n",
       " 'gift presid mobutu za rian peopl honor black man za',\n",
       " 'ps screw button cross lightn struck home kill consol open',\n",
       " 'beat pillar constitut head demonstr sarg ussr',\n",
       " 'republican warn us legal gay marriag would disastr consequ',\n",
       " 'aleksandr vasilevski soviet defenc minist charg manchuria invas issu statement japanes forc seiz control nation film februari',\n",
       " 'martin believ demand ask wife day day',\n",
       " 'sure radiolog depart hospit worri',\n",
       " 'clean crew use magnet strip front vacuum offic build',\n",
       " 'pull sticker tractor tire work pull rubber tire make wonder kind glue use',\n",
       " 'fuck fuck say littl bitch l know graduat top class navi seal e involv numer secret raid al quaeda confirm kill train gorilla warfar top sniper entir us arm forc noth anoth target wipe fuck precis like never seen earth mark fuck word think get away say shit internet think fucker speak contact secret network spi across usa ip trace right better prepar storm maggot storm wipe pathet littl thing call life e fuck dead kid anywher anytim kill seven hundr way bare hand extens train unarm combat access entir arsen unit state marin corp use full extent wipe miser ass face contin littl shit could known unholi retribut littl lever comment bring upon mayb would held fuck tongu e pay price goddamn idiot shit furi drown e fuck dead kiddo',\n",
       " 'new guy chines dive team took dunk instruct littl liter',\n",
       " 'rare photo adolf hitler commit suicid attack alli forc april th',\n",
       " 'irish nation liber armi poster model soviet style design due marxist leninist lean',\n",
       " 'propaganda poster portugues dictatorship top right corner written lesson salazar bottom left corner written god fatherland famili trilog nation educ circa',\n",
       " 'south africa v sri lanka match delay swarm bee beekeep dash wander save day',\n",
       " 'louisiana gov john bel edward execut order lgbt protect declar unlaw',\n",
       " 'silver part coke zero can reflect rest make fun reflect',\n",
       " 'captain francesco schettino escap costa concordia lifeboat color',\n",
       " 'treyarch explain black op singl player campaign peopl play multiplay',\n",
       " 'bob murray pictur oxygen tank reach shake hand support compani meet circa',\n",
       " 'allegedli murder oligarch dupe cia chief trumpkin behind mysteri fake hear basement u capitol',\n",
       " 'real estat photo photoshop histori villag name replac belt around neck dehydr pond',\n",
       " 'told guy would like face woman shadow wife laundri x post r midlyinterest',\n",
       " 'sent husband hospit like make one mistak woman beat husband nearli death joke sex partner remors made joke seriou subject',\n",
       " 'x ray face doubl modifi condylotomi surgeri sever tmj metal bar remov',\n",
       " 'date check found lie ground outsid busi today bit eeri',\n",
       " 'beagl album bbey road see paul left foot forward walk sync',\n",
       " 'superintend ant see anyon ass hang give high school girl bend check',\n",
       " 'orc left word cancer radon ga seep heart',\n",
       " 'nation admit care freedom speech impart inform tar war shit',\n",
       " 'goos quack peck cop car follow believ saw gosl tangl balloon string',\n",
       " 'amidst multipl scandal senat ethic committe investig liter anyth els',\n",
       " 'f someon gay search lord good judg say pope franci',\n",
       " 'hotel chicago soap attach refil visitor open worri fantast idea',\n",
       " 'chanc landlord might fastest year scari stori tell',\n",
       " 'know count saw zagreb croatia countri debat join eu roadsid show emblem cross thought clever probabl earli',\n",
       " 'nyc taxicab driver catch four children leap second floor window burn hous',\n",
       " 'recent got phone lte upload video per minut sofa',\n",
       " 'frustrat nation idea solv gun violenc problem except obviou one',\n",
       " 'psbattl russian interpret crane neck hear convers trump putin',\n",
       " 'tri think follow blockbust music phantom opera andrew lloyd webber confront writer block',\n",
       " 'year old doubl barrel pistol upper pistol one trigger barrel bottom one one trigger barrel requir user flip pistol fight order fire nd shot',\n",
       " 'nfl announc new zero toler polici videotap domest violenc onion america finest news sourc',\n",
       " 'giant red squirrel artwork dublin made entir wast aim draw attent environment issu build due demolish month left stand',\n",
       " 'volunt al imdaad foundat gave chocol gift bolton mark muslim festiv eid',\n",
       " 'kfc secret recip reveal recip salt thyme basil oregano celeri salt black white pepper mustard paprika garlic salt ginger',\n",
       " 'anti royal poster enemi want seiz moscow heart soviet russia enemi must destroy onward comrad ussr',\n",
       " 'infam ss obersturmbannf hrer han leopard schmidt attempt lift moral men concert sept th',\n",
       " 'peopl think appl build horrifi databas peopl face truth',\n",
       " 'way barb wire embed suspend piec wood wood seriou chicken egg situat',\n",
       " 'impress bicycl imprint pavement aftermath hiroshima color',\n",
       " 'mrw diabeetu got bad want eat church choir behind someon inappropri time',\n",
       " 'way shape two unrel lotion bottl perfectli align',\n",
       " 'tab open chrome android show smiley instead number',\n",
       " 'elderli man overwhelm commun support bike stolen woodbin beach ctv news',\n",
       " 'dollar bill serial number success also fold yet',\n",
       " 'topp jersey swap player last year open day card origin right',\n",
       " 'want rich want comfort enough invit one eye wide shut sex parti',\n",
       " 'notic guy fall backward scream ooooo right arm reach back made dramat',\n",
       " 'valet staff vcu massey cancer center recogn hard work mean job peopl go rough time smile open door realli big deal peopl',\n",
       " 'earth worm japan get rather larg e heard long one found eport much longer would make guy babi find one size pretti regularli monster imo',\n",
       " 'psbattl turkish pm erdogan new way welcom guest presidenti palac',\n",
       " 'woman assault celebr need sit tight year dozen women corrobor stori',\n",
       " 'rare photo captain edward smith see two lover goe ship happi could bring togeth throw rager big even dicaprio show',\n",
       " 'year old mother refus go assist live facil shoot kill son stori',\n",
       " 'discuss reason term social justic warrior song want surviv alway includ websit everi articl game bar retro',\n",
       " 'ladi gentlemen pleas attent hand urgent horrifi news stori need stop listen cannnoonnnnbbbaallll',\n",
       " 'philadelphia offici seek cure journal student igh mind idea govern',\n",
       " 'alex honnold complet fastest known ascent nose el capitan color',\n",
       " 'ladi one embarrass guess heel fortun e ever seen profession genealogist appar even gen alo ist show buzz guess gynecologist',\n",
       " 'commun group grow edibl garden montreal sidewalk everybodi eat free',\n",
       " 'color photo michael wittmann nazi waffen ss tank command prepar crew battl viller bocag',\n",
       " 'mom find mysteri fragrant lump bathroom realiz someth horrifi one children brought home citru scent urin cake left cereal bowl bathroom',\n",
       " 'extrem amount rain last friday there moat around old train',\n",
       " 'iama ama profession sock year experi advertis industri ama',\n",
       " 'paul walker moment tragic death passeng seat roger roda porsch carrera gt novemb',\n",
       " 'dr christiaan barnard perform first human heart transplant oper last five hour dec groot schuur hospit',\n",
       " 'lose feder grant citi rais hundr thousand dollar homeless shelter',\n",
       " 'spanish chef overcom red cross effort provid million meal puerto rican',\n",
       " 'tsa employe ignor baggag scan monitor play cell phone tsa insist despit danger materi ignor tsa fire screener',\n",
       " 'gop lawmak common core make one children homosexu possibl',\n",
       " 'rian johnson convinc media tlj hater racist receiv valid critic circa',\n",
       " 'pictur son first time use finger paint told guy would love',\n",
       " 'could choos human prefer novelti mani men sex orangutan repost r todayilearn',\n",
       " 'idk sub work sinc found make cover photo',\n",
       " 'china yet meet donald trump demand purchas farm good us china trade crumbl',\n",
       " 'discov play cat toy get away amaz art sound direct',\n",
       " 'mila kuni honest respons ask ashton kutcher annoy husband annoy realli',\n",
       " 'biophilia sensori contact natur improv overal well mental health cognit today',\n",
       " 'ottawa order boat give right whale metr buffer zone look varieti option protect endang mammal gulf st lawrenc say fisheri minist domin leblanc',\n",
       " 'riley howel year old lost life tackl uncc gunman buri militari honor',\n",
       " 'monster univers hat fray one corner like movi',\n",
       " 'sooti sweep fan benefit withdrawn longer support facebook appreci page',\n",
       " 'mp district collector give offic air condition instal nutrit rehabilit center',\n",
       " 'nation unabl recal trump said person fund abort bomb sound right',\n",
       " 'massachusett man spent three decad prison rape convict base part singl strand hair freed wednesday await new trial',\n",
       " 'veteran struggl find perman employ resort busk support',\n",
       " 'rock need cassett tape found walk floor instrument storag room second hand kimono shop caraca',\n",
       " 'charmin new forev roll massiv roll toilet paper target millenni custom',\n",
       " 'polic offic captur gopher snake anim control refus give new home shoot rang',\n",
       " 'water stain shape person banist build stairwel',\n",
       " 'diabet oregon man surviv day desert strand jeep feel lucki grate',\n",
       " 'capt jame kirk command u navi set take ownership largest destroy',\n",
       " 'ike swim pool chines netizen marvel cleanli japanes flood water',\n",
       " 'e grade f intuit understood fail where e could seen stand excel letter grade system made easier report grade parent thu necessit intuit',\n",
       " 'bother realli look reach',\n",
       " 'dad found remark well preserv letter uk govern detail much benefit due increas',\n",
       " 'simpson predict trump sisi saudi king meet year advanc rumor',\n",
       " 'furnitur assembl instruct incorrectli replac word may april',\n",
       " 'congressman elect scott taylor contact navi support young veteran brew compani',\n",
       " 'russian attack ongo crisi republican cover endang nation secur',\n",
       " 'emot reunion oregon visitor nearli die daniel k inouy airport thank rescuer first time friday larri audrey gill head back home collaps airport lobbi',\n",
       " 'vend machin use lcd display alway correct price number',\n",
       " 'nebraska state patrol requir unnecessari vagin exam femal trooper lawsuit say',\n",
       " 'pastor said santa clau jaw drop said santa real',\n",
       " 'fuck go middl soviet space shuttl buran display shelter',\n",
       " 'neil degrass tyson repli el paso dayton mass shoot colour',\n",
       " 'french presid emmanuel macron write birthday poem eiffel tower schoolgirl',\n",
       " 'florida newsroom partner report state biggest threat climat chang',\n",
       " 'rememb pizzeria feed homeless see happen stori share month ago',\n",
       " 'mark zuckerberg explain court facebook collect user data without consent april',\n",
       " 'firefight get hose suck dump typic around year femal',\n",
       " 'typic propaganda cold war playground equip intend foster children curios excit space race rocket slide oskaloosa iowa',\n",
       " 'nazi soldier stock tirpitz bunker valuabl resourc surrend german forc',\n",
       " 'blind nearli close light project build side street',\n",
       " 'u what rotat class action repres first degre karma whore first degre two count gold theft count grand theft',\n",
       " 'catastroph accid befal soviet space program run final test plan attempt man spaceflight mani cosmonaut would lose live disast like one',\n",
       " 'children leav kapiolani medic center women children special send celebr road recoveri hospit recent gift miniatur call ischarg train come special button symbol train last destin home',\n",
       " 'refere barack obama overse handshak donald trump joe biden begin highli anticip box match',\n",
       " 'stark differ remast origin version friday love cure',\n",
       " 'news miss opportun presid obama found allow sleep white hous year live hotel near reagan airport',\n",
       " 'singl mom ask cent electr donat money pour may god bless',\n",
       " 'mussolini wife say last napkin found infront peopl coloris',\n",
       " 'handwritten document current preserv unit state holocaust memori museum',\n",
       " 'mrw download button top bottom text start show phone click individu unread messag reddit someth dare',\n",
       " 'instead use tube toothpast time dad use multipl tube altern everi day',\n",
       " 'weekend read build futur one hous time prison entri plan conceiv incarcer indiana women breath fresh air',\n",
       " 'trump tweet huge lie elect addit win elector colleg landslid popular vote deduct million peopl vote illeg',\n",
       " 'captur german wonder weapon transport usa part oper paperclip colour',\n",
       " 'school print program show environment impact tab show much tree use',\n",
       " 'hillari clinton vote donald trump final us elect count show',\n",
       " 'haunt imag taken within irish abort clinic day open june coloris',\n",
       " 'trump serv full first term articl say certain serv full term possibl impeach',\n",
       " 'column much poor actual pay tax probabl think pb',\n",
       " 'heart chang come world view u biggest danger rogu state',\n",
       " 'north korean offici play band downtown pyongyang x x post r northkoreap',\n",
       " 'build help look possibl upgrad build select abil buy part',\n",
       " 'troubl cuba bernhard gillam publish judg magazin august th',\n",
       " 'e work year get annex ad build today last beam put place sign',\n",
       " 'strang dog keep wander home sleep find note tie collar dog live hous loud kid wander afternoon nap neighbor hous info whether neighbor stop continu',\n",
       " 'water bottl order cold iceberg form start float insid',\n",
       " 'gossip damag peopl poster distribut dutch nation socialist movement attempt curb spread rumor state war',\n",
       " 'research say women less like men kill hitler could travel back time',\n",
       " 'tree support two tree creat arc path natur beauti',\n",
       " 'news bodi posit fail photo clearli show magazin airbrush kate upton confeder flag birthmark year',\n",
       " 'psbattl terrifi dog emerg assassin tri shutdown concert irl',\n",
       " 'donald trump skin orang either much time tan bed spray tan',\n",
       " 'billion miss fbi record calam expos potenti danger throw infant bridg plead guilti serv paper behalf american manufactur revolut fox news',\n",
       " 'belov european see creatur complet gentl love calmli confid protect safe etern peac brought roosevelt bolshevik bear germani wwii',\n",
       " 'news rememb legend lo angel polic issu honorari amber alert gene wilder',\n",
       " 'believ happen year old woman drink die alcohol poision',\n",
       " 'fix bit gave littl less grit confin space plu slight blur',\n",
       " 'rare photo earli jewish poss would explod number scour europ search known nazi offici collabor wwii color',\n",
       " 'left book sun year color chang left origin right aftermath',\n",
       " 'hong kong new flag hand unit state great britain',\n",
       " 'shiver freez korean war leaflet drop north c',\n",
       " 'boy hero save classmat dangl ski lift grab classmat slip chair look fallen ski',\n",
       " 'monica lewinski net worth make sens click worth noth monica',\n",
       " 'man put empti glass stick butter absolut magic outcom put hot water glass minut wipe use cover butter would soften faster',\n",
       " 'e instal new sewer road construct worker bit fun',\n",
       " 'indiana conserv group reforest plu acr farmland nativ hardwood sapl spring organ credit plan donor volunt support brisk tree plant pace',\n",
       " 'anim welfar worker heard femal pit bull dog need help howev pit bull alon adopt littl kitten nurs',\n",
       " 'bag crisp seal within multipack seal dead centr open multi pack result greet unexpect chees curl',\n",
       " 'triumph conquer peopl mikhail khmelko oil canva depict moment captur nazi flag standard pile front lenin tomb burn',\n",
       " 'taylor swift next eddi van halen term inspir new guitar player ye new femal musician cite taylor swift music influenc',\n",
       " 'year old former ss sergeant serv guard auschwitz found guilti count accessori murder',\n",
       " 'defiant sarah huckabe sander claim know voic come open mouth',\n",
       " 'paralyz veteran continu pedal forward rais money valley war hero',\n",
       " 'african teen inspir motiv basketbal without border one intens week boy girl african countri chosen highli select program train current former player nba wnba',\n",
       " 'utah lawmak want porn filter internet anti porn softwar instal cellphon',\n",
       " 'comic strip insid mom jacket explain want taken care',\n",
       " 'oil compani ensur peac pregnanc polar bear chose dig matern den bridg',\n",
       " 'governor n c warn resid wear stupid hat hurrican arthur approach',\n",
       " 'creed singer scott stapp threaten kill presid obama believ cia agent famili say panick call',\n",
       " 'mani pushup row harvard scientist say time lower risk heart attack pushup',\n",
       " 'panther sneak behind man play hug panther pet',\n",
       " 'accident order tea thought came giant version regular box',\n",
       " 'realiz e zebra cactu year month start one littl cluster nyc sf sever spot',\n",
       " 'farewel legend milo ramon conductor ramon pass away',\n",
       " 'adolf eichmann present final solut wannse confer berlin januari',\n",
       " 'two clearli look superimpos alreadi let see els vacat take',\n",
       " 'easyjet reward hero doctor free coffe make pay kitkat go',\n",
       " 'watch big brother discov sister bf beat reveng epic punch knock save one click lot frustrat ad mobil watch video',\n",
       " 'young man run earli morn frost littl ice age viceroyalti new spain color',\n",
       " 'gop candid rick saccon releas memo voter day penn special elect warn democrat',\n",
       " 'polic man masturb bu stop get work f ed bank robberi suspect demand hold note back qualifi benefit',\n",
       " 'psbattl competitor steer obstacl cours red bull soapbox race',\n",
       " 'instructor hard time follow instruct build paper airplan',\n",
       " 'oc full basketbal court artifici grass anyon care explain bodrum turkey',\n",
       " 'subprim mortgag giant ocwen rock u defens secretari jame matti tini german north sea asset worth bn chrysaor bbc news',\n",
       " 'light compani catalog got sent work yike glad graphic design firm',\n",
       " 'meet australia oldest dancer choreograph abc news australian broadcast corpor',\n",
       " 'walt disney co begin quest acquir media purchas nascent steve harvey empir',\n",
       " 'ponc de leon search fountain youth r historymem day ban hope',\n",
       " 'vend machin fisherman sell nightcrawl minnow wax worm live bait port sanilac michigan',\n",
       " 'us canada select see us trump stand central park five comment',\n",
       " 'hurra die butter ist all hurray butter gone antiy fascist imag john heartfield comment',\n",
       " 'captain jame cook crew mate first land botani bay australia circa',\n",
       " 'lonid kotlyarov portrait stakhanov alexey stakhanov becam symbol new man athlet labour could perform miracl overproduct',\n",
       " 'alabama sovereign citizen find sovereign today state polit',\n",
       " 'three year ice bucket challeng al diagnosi marathon still compet',\n",
       " 'quick job break work might fix add effect get home',\n",
       " 'scientist replac back patient head glass order easili studi brain patient listen music',\n",
       " 'excerpt igniti respect armi illustr guid ask tell',\n",
       " 'c land aircraft carrier make rethink physic result beyond hypothes physic still like physic',\n",
       " 'mist life death influenc recent discuss suicid',\n",
       " 'drive today cruis control rang outsid temperatur number',\n",
       " 'riedel creat rainbow decant good caus brand donat sale elton john aid foundat relief fund five decant chariti auction',\n",
       " 'parent long struggl find compassion health care adult children profound disabl kentucki place go',\n",
       " 'young luiz cio messia bolsonaro ex presid brazil armi strike year',\n",
       " 'blue star donut put funni explan social network guess googl employe find someth els use',\n",
       " 'fear theresa may un field wheat may inspir mass copycat trespass',\n",
       " 'pet raccoon stone much weed brought indianapoli firehous confus ensu',\n",
       " 'brand new copi road design look worn complet faint smudg print cover rug uneven page',\n",
       " 'year old oakland base uber driver arrest connect two case fals imprison proposit femal passeng sex',\n",
       " 'pete buttigieg stun campaign crowd speak manufactur robot fluent binari',\n",
       " 'cute littl floati tune thing wish someon would sit th juli creek shenanigan',\n",
       " 'ginger tabbi black patch fur adopt thought dirt',\n",
       " 'anoth psych movi lead jame roday say start work',\n",
       " 'leonida victori complet lay arm kneel holi ceelo',\n",
       " 'r kelli turn chicago polic indict sexual abus charg',\n",
       " 'go far nintendo respond complaint marth overpow mash give fibromyalgia',\n",
       " 'found aphid farm deck ant leaf store aphid poop',\n",
       " 'resist setback robert mueller abandon russia investig determin real crime low price kinja deal',\n",
       " 'alright well gonna test real quick yep yep thought like',\n",
       " 'tiger wood nike launch new hubri campaign inning take care everyth',\n",
       " 'bring back death penalti bring back polic ad donald trump respons trial central park five new york citi',\n",
       " 'much janic love bring boyfriend girl club other enthusiast',\n",
       " 'anyon know car make model found steer wheel street lol',\n",
       " 'visibl weari hitler emerg bunker give one last rivet speech commit suicid',\n",
       " 'insan english trooper hunt vietnames civilian reveng vietnam war colouris',\n",
       " 'patriothol danger clean energi wind turbin pop man brand new volleybal',\n",
       " 'belgium tailor paint famili home white left work return young son paint work black father paint part done less hour ago invent polka dot',\n",
       " 'work control fight worker self manag iww poster date unknown',\n",
       " 'believ safe open decad idea insid',\n",
       " 'cardin avignon inspect remain witch burn stake color',\n",
       " 'said find martin scorses dalai lama jay z say',\n",
       " 'punk band compris member syndrom make eurovis semi final',\n",
       " 'actual capitol build state florida comic obviou frank bean',\n",
       " 'seed bread steaklet sriracha toast craft slice top mexican foodi fb group creator pot',\n",
       " 'rescu mini donkey give birth public vote name starv abandon miniatur donkey rescu pennsylvania farm littl secret anim welfar worker pregnant',\n",
       " 'british polic offic reveal realli think war drug think effect reason',\n",
       " 'alan knight claim quadripleg avoid fraud trial polic video shop tesco',\n",
       " 'construct worker show numer guard monitor berlin wall possibl escapist',\n",
       " 'slice ham look like focu jut effect slice rel posit',\n",
       " 'winston churchil react nazi airdrop peac leaflet england colouris',\n",
       " 'peopl buri stoneheng new studi shed light new research suggest individu buri stoneheng possibl transport stone west wale help build',\n",
       " 'company rebel meet english flying live fall down crying merci thrust their children belly threw water depict suppos irish atroc rebellion',\n",
       " 'man genet predisposit heart diseas match half ass push up coupl time week',\n",
       " 'british navi fire chines citi yangtz river first opium war circa color',\n",
       " 'account fbi investig ice shoot undocu man nashvil suburb',\n",
       " 'beer summit presid trump invit racist nyc lawyer woman yell white hous lawyer finish yell',\n",
       " 'ian mulgrew undercov mounti push pressur cooker bomb plan accus terror coupl',\n",
       " 'british eod squad move attempt disarm potenti ira car bomb troubl circa',\n",
       " 'mum ask nude pic model send equip may save woman life',\n",
       " 'woman arrest public nuisanc spin istress four year old burleigh playground ride',\n",
       " 'key wit sunderland pc keith blakelock murder trial tell court black look alik',\n",
       " 'would believ man complain ikea shower stool testicl got caught one hole troubl get hot water also ran stuck got cold',\n",
       " 'one detail everyon miss home alon kevin dad accident throw away kevin board pass clean spill save click',\n",
       " 'fire anti muslim tirad toward somali women plan help get hire',\n",
       " 'zika lyme drive big increas bug born diseas u state fulli readi fight tick mosquito cdc find',\n",
       " 'bar near use work whoever made decis wrong',\n",
       " 'jacksonvil shooter legal arm state one usa toughest gun law',\n",
       " 'battl skydiv coast doneg ireland via previou winner kweeveen',\n",
       " 'klau flourid god run electromagnet wave theori monday wednesday friday devil run quantum theori tuesday thursday saturday x',\n",
       " 'new zelda game go let someth wild jump climb free roam',\n",
       " 'rod stewart other donat model railway club whose exhibit destroy vandal',\n",
       " 'white colour footbal uniform real nation team racism neo nazi',\n",
       " 'jesu christ last supper hear discipl say one kill messiah april ad',\n",
       " 'robot smart technolog revolution hous smart applianc add life chang valu',\n",
       " 'teen see wheelchair bound woman sit hot sun stop hold umbrella shade wait bu',\n",
       " 'uhhh yeah gimm sec come thirti two point three three uh repeat cours percentag surviv',\n",
       " 'comput longer work mous made nest conduct chocol foil',\n",
       " 'til despit initi misinterpret move order symbol prescript first dog nomin hour',\n",
       " 'lululemon execut furiou focu group leav product test self esteem intact',\n",
       " 'venezuela use photo journalist detain promot well treat foreign',\n",
       " 'man receiv ticket hit mph porsch boxster said need clear snow vancouv island',\n",
       " 'charl barkley recal tri gain lb day er draft',\n",
       " 'consum bureau reconsid fine well fargo mortgag fee report thehil',\n",
       " 'bunch money ship send see excit four team format',\n",
       " 'deaf girl got delta flight happen next truli stun gave handwritten copi board announc',\n",
       " 'clickventur e hogwart guidanc counselor convinc anyon go colleg',\n",
       " 'would appreci help kitten sit furnitur trevor solv problem',\n",
       " 'trump budget hit poor american hardest aim replac food stamp high end meal kit',\n",
       " 'blackrock trillion invest firm state contribut societi risk lose support',\n",
       " 'man tri burn st loui ga station caught steal flamin hot cheeto polic say',\n",
       " 'ohio pastor convict child sex traffick declar pervert',\n",
       " 'pub staff mistak priest stag parti ask leav staff realis mistak one priest rev jame buy barman pint ev jame',\n",
       " 'alien tree least look way redwood burn wildfir devast neighborhood trim come back',\n",
       " 'til invent island move ireland stori gif guess',\n",
       " 'morn toast venu cosmic jiver pleas excus technic qualiti made tini phone free app',\n",
       " 'grandpar retir home special elev accommod practic shabbat',\n",
       " 'look thought interest sorri dust damn construct site',\n",
       " 'drive past build everi morn final enough traffic today safe take pictur',\n",
       " 'jonah cast overboard jonah c icon use variou pillar fire public trigger warn ku klux klan',\n",
       " 'latin phrase chang way manag problem solvitur ambulando solv walk',\n",
       " 'american basebal player drop ground air raid drill circa',\n",
       " 'oregon encourag rural broadband invest key bridg digit divid rural area oregon percent home connect internet',\n",
       " 'former anti semit politician hungari move israel discov jewish',\n",
       " 'friend said immedi hear gay marriag legal nationwid u suprem court',\n",
       " 'crab snail need calcium shell swarm chow drop calcium',\n",
       " 'rare photo italian soldier fight brave sicili campaign juli',\n",
       " 'world war two bbc attempt find rel children surviv holocaust lost parent believ might famili britain seventi year alex last trace children found happen',\n",
       " 'happen photo schumer putin discuss us russia relat first term senat eat krispi kreme donut',\n",
       " 'new hampshir polic depart want peopl stop bring hors old town road',\n",
       " 'karl nitz learn adolf hitler joseph goebel suicid berlin c colouris',\n",
       " 'thoma cranmer theologian work earli draft book common prayer translat christian liturgi english first time ad',\n",
       " 'connecticut hartford move closer chapter bankruptci solicit propos law firm',\n",
       " 'olimp ada popular popular olymp game barcelona go host antifascist altern nazi germani olymp game day year ago cancel due fascist coup tat',\n",
       " 'twin bath pod seat look like tentacl alien breath last breath',\n",
       " 'fwd get support religion peac noth anyth',\n",
       " 'sad day hollywood say goodby legend sylvest stallon dead retir',\n",
       " 'work home yesterday took photo rice world leader set rule',\n",
       " 'mrw realiz reason women polit heel broke get along recent perform',\n",
       " 'nude austin man rub grandma near univers texa say buzz lightyear',\n",
       " 'new pentagon transgend rule set limit troop final legal injunct block new polici lift last week allow pentagon move forward restrict transgend troop like face ongo legal challeng slam member congress',\n",
       " 'e graduat student studi neurosci pharmacolog start busi wrong convict want person',\n",
       " 'sne classic pre order walmart get cancel error caus sne classic made avail earlier intend',\n",
       " 'new mug paw print bottom wash soap bubbl make look like cover paw print',\n",
       " 'domperidon otc anti nausea med amaz side effect produc breast milk struggl mom even adopt mother oz one pump oc',\n",
       " 'power peopl poster commemor death black panther parti member georg jackson ospaaal',\n",
       " 'two russian men got argument made superior gpu amd nvidia stab time tri hide evid',\n",
       " 'first person run presid unit state cerebr palsi circa',\n",
       " 'dement spongebob crash super bowl reveng betray maroon',\n",
       " 'dad banana republ shirt say made ritish crown coloni hong kong',\n",
       " 'amazon ship power bank label emerg number enflam batteri though american german packag',\n",
       " 'fuck draft creator magazin ad arrest fbi crime incit lewd indec materi',\n",
       " 'chop zucchini notic word imprint backward read spell',\n",
       " 'someon alway come late ruin everybodi els movi watch experi',\n",
       " 'loos talk cost live irish republican armi indigen right poster ireland northern ireland',\n",
       " 'cryptocurr enthusiast succes mine bitcoin ne consol actual mine block capabl run mine softwar help raspberri pi',\n",
       " 'pal allow bring pet fox lucki school photo day circa doneg ireland oc',\n",
       " 'navi offici ensur uss john mccain view us presid donald j trump',\n",
       " 'australian soldier moment hit nazi mortar strike color',\n",
       " 'video silicon valley mogul kick girlfriend time could send jail',\n",
       " 'singapor report oscar adventur kick press room find fairi godmoth',\n",
       " 'sugar crystal form mapl syrup left fridg forgot',\n",
       " 'eric drooker fame perhap new yorker cover radic circl polit inspir illustr recent made larg may day poster',\n",
       " 'without evid trump say border incid u mexican soldier robabl divers drug smuggler',\n",
       " 'gourd plant tendril around spiderweb garden day still hold strong',\n",
       " 'megyn kelli interview tri end gridlock hint happen hillari win',\n",
       " 'laker news luke walton reveal encourag pursu coach former la laker head coach phil jackson',\n",
       " 'betta ump gene caus scale complet chang color top pic babi',\n",
       " 'see red sash kill man wear run cur tell cur law come tell em come hell come hear hell come',\n",
       " 'hall cough drop wholesom sentenc motiv futur import event speech',\n",
       " 'anoth step progress scripp nation spell bee also end swimsuit portion competit',\n",
       " 'due drought cattl farmer forc feed livestock ice cream sprinkl gummi worm marshmallow',\n",
       " 'terrorist german anti surveil anim war terror germani',\n",
       " 'neighbor cut branch tree yard could best halloween tree e ever seen',\n",
       " 'superman american red cross need support give gener superman comic cover issu may',\n",
       " 'tanki peopl think harri potter tendenc think harri potter tendenc',\n",
       " 'fritz kuhn leader german american bund address american nazi sympath ralli madison squar garden februari color',\n",
       " 'popular restaur manag moment deport pro trump west frankfort illinoi',\n",
       " 'enjoy capit greek street art hit bullsey cornbread cafe st loui earlier week',\n",
       " 'promin exampl corpor espionag great consol war geneva convent later found tactic egregi consid war crime digit photograph restor',\n",
       " 'stoke citi fan suffer heart attack liverpool philipp coutinho score last gasp wonder goal',\n",
       " 'deconstruct reconstruct hypnot music video play look like street level',\n",
       " 'borussia dortmund emr mor watch sad stand fellow young teammat christian pulis ousman dembel receiv play time dortmund champion leagu match benfica march',\n",
       " 'nov at took equival northern light gener differ earth bound analog',\n",
       " 'sail night day week almost year wild thing',\n",
       " 'water new liberti blood rain death fascist skunk soviet poster ukrainian poet tara shevchenko ca',\n",
       " 'woman prove cougar like parent repel sound metallica',\n",
       " 'grown tire tradit bodybuild lenda began sculpt leg littl man',\n",
       " 'life amaz woman abl turn love bake pie thankless financi ruinou career',\n",
       " 'poke nail lemon result insan cool light fire creat electr current nail video sourc comment',\n",
       " 'usa gymnast confid plan place next time doctor sexual assault children',\n",
       " 'jeb tri explain away anchor babi remark frankli relat asian peopl',\n",
       " 'stop start engin make differ ye achiev rang increas use cruis citi',\n",
       " 'much higher maximum clock speed satur support build first build',\n",
       " 'like warn line ream receipt paper paper low happen print newspap',\n",
       " 'dad front vietnam know photo exist came across randomli internet cri saw hope right place post',\n",
       " 'hour first plane hit south tower presid bush receiv forebod messag culprit',\n",
       " 'citi u end chronic homeless nine end veteran homeless',\n",
       " 'woman yard call elentlessli gay rais money make even elentlessli gay',\n",
       " 'judg shave year mandatori sentenc note rapist year old intend harm',\n",
       " 'vote hous stenograph remov chamber scream freemason',\n",
       " 'hawaii hurrican lane categori latest updat path track weather forecast model today live updat',\n",
       " 'andrew garfield come gay without physic act gay enjoy watch ru paul drag race will experi',\n",
       " 'songaminut man elderli man alzheim score record deal car karaok goe viral',\n",
       " 'wealthi businessman buy million rescu boat save thousand migrant makeshift vessel',\n",
       " 'far short mar mission final take place print complet rocket intern space station astronaut ritual',\n",
       " 'high runaway helium balloon fli helium fill balloon reach sever mile earth surfac cannot float space',\n",
       " 'whoever donat frame second hand store remov girl class photo',\n",
       " 'warn next version io featur major hidden chang new file system upgrad abl revert previou file system solut back phone case get brick',\n",
       " 'question third coen brother whose job make sure everybodi sunscreen question franc mcdormand',\n",
       " 'fire escap high old movi theatr projector use catch fire often',\n",
       " 'perhap rivet still satisfi sort soda bottl come desk make slant line brain remov use drill bubbl',\n",
       " 'fell acid would melt death bodi made water',\n",
       " 'columbia eye expect vote good nation us presidenti elect',\n",
       " 'tini rock frozen puddl remot jungl island skull shape mountain',\n",
       " 'costa rica win champion earth award leader environment action sustain',\n",
       " 'mexican antinationalist anti nazi poster anarch anti nationalist anti nazi',\n",
       " 'place bag hotel tub drain could laundri hotel bathtub',\n",
       " 'right chinaman jeopard white man dinner walter wasp racism lithograph',\n",
       " 'someon use stone write end nude one crater close etna sicili itali',\n",
       " 'sand tabletop happi enough palm sander see someth',\n",
       " 'blind man solv modifi rubik cube year lose sight semi xpost r pic',\n",
       " 'turn around histori class go farther back histori suppos',\n",
       " 'earli civil defens booklet ask question surviv grand slam attack countri certainli prepar home front',\n",
       " 'elon musk stand next remain fail spacex cr florida june color',\n",
       " 'emergendi aid distribut north illustr f derneslandet ineffici emerg food aid famin north sweden',\n",
       " 'human lizard meet person surgeri look like reptil stop short anyth realli cool',\n",
       " 'year old abus survivor heart wrench inspir thank letter social worker',\n",
       " 'year old deaf girl love peopl whole neighborhood learn sign languag',\n",
       " 'pole vaulter detain two week accident pole vault canada across border us',\n",
       " 'explos wildfir move california citi show sign stop see terrifi photo scene',\n",
       " 'year old light switch apart click glow orang light',\n",
       " 'obama admin outlaw wildli popular product found million bathroom antibacteri soap',\n",
       " 'monarch butterfli readi emerg chrysali alongsid newli form chrysali',\n",
       " 'local graffiti artist made tag bird instead name citi never paint well known tagger caus work never get cover',\n",
       " 'first ap photo tump secretari defens jame matti fire promis recruit armi',\n",
       " 'hospit work comfort dog employe badg photo id',\n",
       " 'bill gate back waterless toilet futur work lid close bowl dump reservoir solid wast inciner ash empti weekli liquid wast filter result water use clean irrig',\n",
       " 'ead end sign paint wear reveal en work sign underneath',\n",
       " 'even sun columbia river seen u bridg tri citi washington',\n",
       " 'guy think articl need educ r marchagainsttrump irl',\n",
       " 'last known photo dodo bird death hand human color',\n",
       " 'ask googl help fall asleep sing twinkl twinkl littl star lullabi let music play hour turn phone close',\n",
       " 'italian resist member lie dead rubbl nazi counter assault color',\n",
       " 'rare photo british tank watch ocean victori berlin',\n",
       " 'citi cambridg use firetruck hoist giant flag memori day parad',\n",
       " 'mueller speak investig first time say comment beyond report',\n",
       " 'said find sulli sullenberg larri ellison kirsten gillibrand say',\n",
       " 'life heartbreak firefight show burn build spent long learn name save anybodi',\n",
       " 'man band albatross sixti year later bird still aliv turn yesterday',\n",
       " 'good week beleagu shark cross border conserv pact sign countri week promis first time extend extra protect shark sever migratori speci whichev countri stray',\n",
       " 'reason peopl fall relationship asshol eachoth save click',\n",
       " 'odin brave herd dog surviv california wildfir refus abandon goat',\n",
       " 'imagin dragon neon tree moth flame help save venu owner launch career',\n",
       " 'spectacular footag narwhal reveal true purpos tusk locat hit fish subsequ stun easi meal',\n",
       " 'life inspir boy school found lice hair teacher began worship fertil god whose bodi sustain life',\n",
       " 'belli find new definit pain suffer slowli digest thousand year',\n",
       " 'servic station ban consumpt alcohol anywher insid outsid premis',\n",
       " 'way makeup came bottl shape like bear spong',\n",
       " 'see hair form ice water come right temperatur look like hair call air ice phenomenon',\n",
       " 'discuss outerwear piec actual want buy anoth pair recommend place like exot color',\n",
       " 'weird alien pattern piec plastic took front wash machin',\n",
       " 'visit friend apart look like iron paint color distribut fade godfath laserdisc actual haphazardli purchas fill blank spot wall',\n",
       " 'racial slur develop keep pace mix race birth nation bigot report',\n",
       " 'tini dot tini littl pebbl stuck hand year',\n",
       " 'spot face old man insid river river aliakmon locat grevena greec x oc',\n",
       " 'psbattl friend want badass train come truck pictur told reddit know guy help would greatli appreci',\n",
       " 'founder reddit scout origin content prior websit launch',\n",
       " 'heart warm moment chicago tv report save elderli woman blown away near hurrican wind tear apart citi',\n",
       " 'mother got new cabinet put upon remov one found pictur origin builder hous sign date',\n",
       " 'presid barack obama slide across counter shake shack take photo employe',\n",
       " 'put bullet head fistfight nearli erupt final day contenti texa hous legisl session',\n",
       " 'actual mean caught dope olymp take ban illeg substanc improv perform',\n",
       " 'world health organ unveil new women gynecolog research institut headquart amsterdam',\n",
       " 'mark zuckerberg meet longtim hero william shatner sci fi convent',\n",
       " 'australian ww propaganda poster scan want share x post r australia',\n",
       " 'irish paralympian fight becom australian citizen held back english languag test',\n",
       " 'pictur dabiq islam state onlin magazin juli januari',\n",
       " 'last perform circu eleph chile rescu move new eleph sanctuari live golden year',\n",
       " 'boy autism receiv new bike helmet anonym donor rob one receiv christma',\n",
       " 'mcdonald sign made match old street salzburg austria',\n",
       " 'middl age coupl sick year old son alway tri set parent',\n",
       " 'giant extinct burrow bat unearth new zealand palaeontologist discoveri highlight divers life lost island nation',\n",
       " 'look car window sunglass superimpos rainbow everyth outsid',\n",
       " 'north alabama custom advis drink water due chemic contamin',\n",
       " 'hame chatter enemi listen silenc duti germani',\n",
       " 'littl boy cf get wish garbag man sacramento show forc cheer',\n",
       " 'would happen astronaut float away space obvious safeti measur prevent said without rescu astronaut would die',\n",
       " 'parent fenc fell storm last week one panel blew back strong wind last night block sign neighborhood',\n",
       " 'mom discov she pregnant five babi giant belli get cover bruis bruis stretch skin six fine',\n",
       " 'fbi knew year saudi diplomat help fugit us look way concern might jeopard saudi cooper war terror',\n",
       " 'date ad caligula seneca younger first known dock attempt color',\n",
       " 'slave labor dutch public l j jordaan nachtmerri nederland nightmar netherland comment',\n",
       " 'psbattl chelsea manag guu hiddink present chelsea theme mope thank gift',\n",
       " 'american astrophysicist propos plan moon land circa color',\n",
       " 'abraham lincoln get inaugur white hous predecessor jame buchanan color',\n",
       " 'photograph john wilk booth taken moment shock assassin abraham lincoln',\n",
       " 'open scene journey zoombini time honor classic adventur game estim american school',\n",
       " 'devast louisiana flood acadiana red cross ask resid stop bring donat receiv much ran room store',\n",
       " 'u hana holesolo apolog free threaten dox cnn mean',\n",
       " 'mysteri prison escap final solv half centuri might might escap brazil click',\n",
       " 'feder prosecutor said investig lobbyist toni podesta special counsel referr',\n",
       " 'cartoon evolut usa imag till tri fair',\n",
       " 'thing side biolog grad student didnt know think made',\n",
       " 'psbattl old coupl cosplay han leia star war forc awaken',\n",
       " 'probabl kindest man ever known good guy said money schiappa rais goe coalit homeless last year rais',\n",
       " 'soviet industri plan complet five year plan four religion',\n",
       " 'eric harri aquir gun gun show week later murder innoc student colombin high school',\n",
       " 'recreat wwii era anti aircraft gun toilet ad gunner would never leav post c',\n",
       " 'machin becom left need b h l l g bourgeoi oppressor',\n",
       " 'found old man appar told random japanes robot kind anyon idea',\n",
       " 'surpris one mention upcom pixar short blue umbrella brim pareidolia',\n",
       " 'australian politician resign alleg mistress share selfi peni glass red wine',\n",
       " 'sign heart quietli fail die heart attack video playback speed transcript video say anyth headlin hoc fanci fish oil pill',\n",
       " 'edward middleton origin design ed seri detroit school technolog omni consum product archiv',\n",
       " 'justic leagu wrap ben affleck jason momoa celebr got beer',\n",
       " 'meet world oldest famili donnelli sibl whose combin age year',\n",
       " 'arithmet industri financi counter plan plu enthusiasm worker soviet poster promot first five year plan',\n",
       " 'r getwel got request send card great kid name alex th birthday alex suffer autism recent second heart surgeri jump opportun help make alex birthday special receiv lot card lot present',\n",
       " 'god poster ussr anyon got high re version seem find poster sale anywher',\n",
       " 'foreign polici must alway extens nation domest polici poster quot presid johnson photo dow riot univers wisconsin x',\n",
       " 'rebuild pictur scratch substitut bg sinc find origin big enough size look pretti averag',\n",
       " 'susan never suspect ghost would hide clock x post r wheredidthesodago',\n",
       " 'two dino play music instrument one romant scene movi histori',\n",
       " 'director show band hat got summer product music man haunt dream',\n",
       " 'robert downey jr want voic ai assist facebook mark zuckerberg one condit paul bettani voic jarvi namesak zuckerberg ai get paid give money chariti benedict cumberbatch doctor strang choos',\n",
       " 'greek forc come trojan hors thu end year sieg bc',\n",
       " 'small commun throughout northern nm veteran either cannot afford car old disabl drive albuquerqu medic treatment last year pair retir armi soldier volunt time drive disabl veteran',\n",
       " 'uper logan name gold silver mario amiibo sign charl martinet voic mario',\n",
       " 'presid pelosi explain mr trump mr penc need leav white hous post doubl impeach late',\n",
       " 'distribut urgent need medic suppli target beneficiari libya conflict continu',\n",
       " 'socju stephani abraham ms magazin zelda link goe transgend new staff brashgam',\n",
       " 'anti isi leaflet drop us militari syria isi recruit feed young men meat grinder sign upper right corner read serv number march',\n",
       " 'life pleas dip reserv vin diesel pictur unless absolut emerg',\n",
       " 'immigr act inadvert chang america fifti year passag clear law ultim effect odd origin intent',\n",
       " 'project manhattan scientist prepar test first nuclear deton new mexico color juli',\n",
       " 'old poster show emperor king led great power russia austria britain prussia redraw map europ defeat napoleon congress vienna',\n",
       " 'colombia teatro colon oldest opera hous south america open door six year restor first rehears slate underprivileg children high end sound light technolog donat japan itali sponsor finest restor job',\n",
       " 'carolina dude still get pizza hut nevada beer gave option',\n",
       " 'gov laura kelli attract crowd sign bipartisan k spend bill kansa saga public educ fund long hard time settl moon sun star align said senat molli baumgardn',\n",
       " 'pass sail port canaver gain respect engin saw small platform thing must rock roll ft sea',\n",
       " 'ethnic german resid smile midst heartbroken pole german armi enter warsaw septemb colouris',\n",
       " 'real life barbi look like never actual show goe biographi save click ton pop up',\n",
       " 'citi spend month debat smoke ban public park discov smoke alreadi ban public park',\n",
       " 'socialist revolutionari elect poster socialist revolutionari agrarian socialist polit parti attempt creat democrat govern russia overthrown shortli afterward russia bolshevik communist',\n",
       " 'loot south hurrican hemispher common market open trade open border',\n",
       " 'st loui archbishop carlson claim uncertain knew sexual abus crime',\n",
       " 'mike penc donald trump welcom paul ryan meet room chat',\n",
       " 'cd bought price price tag though sticker bottom cover',\n",
       " 'home improv basement notic previou owner kid sign hidden wooden post two son immedi ad touch',\n",
       " 'caution sign version incompet frustrat person tv commerci',\n",
       " 'georg washington inaugur first presid unit state april feder hall new york nation capitol unidentifi dignitari look',\n",
       " 'bought face wash mexico label spanish look ukrainian',\n",
       " 'ussr propaganda wwii glori victori warrior',\n",
       " 'propaganda poster show kid go mangyongda kim il sung nativ hous north korea modern photo taken',\n",
       " 'luke skywalk survey damag sustain jedi train academi circa abi',\n",
       " 'hard watch drake forgot buy courtsid ticket tonight game tri act like friend raptor noseble',\n",
       " 'park lot giant causeway known natur form hexagon basalt column hexagon pave stone',\n",
       " 'trump gettysburg address stun america make unbeliev announc talk day plan involv alreadi well known tenant polit platform',\n",
       " 'donald j trump take question front wall separ america new mexico color',\n",
       " 'persi meteor shower warn comet could smash earth wipe human chanc possibl least anoth year',\n",
       " 'local coffe shop coffe ice cube differ blend coffe prevent water',\n",
       " 'mailbox neighborhood ski prop spot utah fit well',\n",
       " 'disabl woman reveal normal first time life thank assist labrador pay till collect money atm take sock',\n",
       " 'nake cyclist neo nazi anti fascist meet bristol time place saturday',\n",
       " 'mlb player associ advis remain free agent tri ad keyword like asebal resum',\n",
       " 'two member seal team devgru disembark classifi vehicl success raid bin laden compound kill may',\n",
       " 'deliv sacr heap grain victori countri x wwii italian poster encourag farm product',\n",
       " 'laker fan rais almost k hand stand hong kong shirt season open',\n",
       " 'utah woman donat handmad toy migrant children separ parent',\n",
       " 'glimps femal world web design career spider sure readi children point',\n",
       " 'planet fit give member free pizza bagel caus want keep us fit',\n",
       " 'keep book safe true comrad wartim peac rsfsr',\n",
       " 'parent pink salt candl holder bathroom condens caus side dissolv drip recryst base chang humid',\n",
       " 'teacher win k game show buy everi student school new shoe help get winter',\n",
       " 'actress live decad new york citi apart month live sinc rent control cnn click save',\n",
       " 'top secret photo hubbl telescop show life anoth planet color',\n",
       " 'grandma addict shop cook got old pot like new never use',\n",
       " 'portland cop wrong pri open clench buttock suspect retriev cocain court say',\n",
       " 'north vietnames postag stamp made honor norman morrison quaker set fire robert mcnamara pentagon offic protest war',\n",
       " 'indian urdu propaganda poster german intellig bureau east date circa',\n",
       " 'peopl donat frequent flyer mile reunit famili separ us mexico border',\n",
       " 'interview dday survivor talk trauma caus war color',\n",
       " 'disgust robert mueller eat piec chicken mcnugget meal one sit attempt get trump mind',\n",
       " 'hero teacher releas indiana hospit school shoot suffer gunshot wound tack shooter',\n",
       " 'life father funer turn aliv attend funer actual dead',\n",
       " 'brian riscol reveal believ captain british irish lion alun wyn jone',\n",
       " 'sec state john kerri give russia foreign minist sergey lavrov pair idaho potato',\n",
       " 'abus pit bull pup realiz adopt reaction beyond word man found brought shelter video post click save http archiv jei n',\n",
       " 'psbattl unit state navi f super tomcat fighter jet stage launch aboard aircraft carrier uss theodor roosevelt cvn atlant ocean march',\n",
       " 'like christma everi day billionair pledg eras class colleg debt could echo decad',\n",
       " 'assign take hill four us five count vicent lost hand grenad went fight could first met young brave hill soggi day rain slope toward road mani german soldier road idea aim first group aim true could delay',\n",
       " 'medic worker collaps mid surgeri underestim shroom fill edibl lunch',\n",
       " 'trump meet kim jong un week l one winner kim strategi us',\n",
       " 'daughter took apart slap bracelet found recycl measur tape insid',\n",
       " 'heartbreak old woman famili put nurs home john stamo hardli ever come sex',\n",
       " 'elev button floor choos floor elev lobbi pad tell elev use goe directli floor',\n",
       " 'drafte world unit noth lose gener carlo cortez iww propaganda usa',\n",
       " 'meghan markl enjoy american tradit harri kid royal babi shower',\n",
       " 'appar cold brew enough caffein also cold brew ice cube',\n",
       " 'intellig peopl fewer friend introvert critic comment',\n",
       " 'actor alan ruck reveal cameron frye teenag chicago red wing fan ferri bueller day spite dad blackhawk fan',\n",
       " 'church jesu door ever sinc found might repost better pictur peopl see well enough',\n",
       " 'immacul collect world war ii poster found chest drawer collect poster wwii found london garag includ rare origin world famou keep calm carri design',\n",
       " 'diamond merchant india brighten live employe artisan engin give choic car flat condo jewelri perform incent diwali festiv light',\n",
       " 'qadan report death khan gedei batu khan end mongol invas central europ color',\n",
       " 'one vitamin b supplement capsul empti never seen capsul put togeth empti',\n",
       " 'could see nation sport might less keen see cricket anti apartheid movement',\n",
       " 'elizabeth warren warn equifax could iggl hook user credit data get hack',\n",
       " 'trump brilliantli corner demand iran abid deal alreadi reneg',\n",
       " 'two scottish entrepreneur develop process extract oil use coffe ground could potenti replac palm oil',\n",
       " 'gina haspel recal tortur prison male colleagu prove',\n",
       " 'reich win front europ probabl protector bohemia moravia',\n",
       " 'funer heart iranian propaganda iran iraq war ca x post r creepi note comment',\n",
       " 'philippin dutert say stab someon death teen propos host human right summit',\n",
       " 'believ minnesota man call cop burger king food cold',\n",
       " 'gari johnson ex libertarian presidenti candid becom ceo marijuana compani',\n",
       " 'discov mercilessli crush fifth column poster communist parti madrid citi besieg nationalist forc x',\n",
       " 'brigadi gener tibbet inspect bomber enola gay prior flight hiroshima august',\n",
       " 'decay bunker pipe air pipe found strang pipe wood lurk omg',\n",
       " 'list western reform marxist leninist parti india marxist kill antigua bermuda',\n",
       " 'hiker beat odd find lost toy kind stranger reunit child stuf lion',\n",
       " 'famin auster street art econom crisi turin brussel',\n",
       " 'fierc reaction greet studi alleg hate palestinian textbook find class materi vilifi jew spark furi',\n",
       " 'ealthi drink destroy bone articl cite milk mention pasteur kill benefici bacteria destroy vitamin c claim unlink studi prove milk bad despit also say drink raw milk either articl confus',\n",
       " 'stare monster eye final came sever hour indiscrimin upvot',\n",
       " 'new studi experiment ebola drug zmapp show effect monkey studi even later stage infect',\n",
       " 'viagra altern cure hubbi erectil dysfunct without need prescript ad disguis articl herbal pill counter',\n",
       " 'whenev someon talk dish immedi thought bloodmoon eclips captur name today',\n",
       " 'prosecutor say manchest sea inspir coupl kill special need son',\n",
       " 'hitler put forward germani case annex sudetenland leagu nation circa color',\n",
       " 'thirti two year billboard remov reveal origin spacebal advertis',\n",
       " 'hese kid school instead protest say peopl tantalizingli close get point',\n",
       " 'bbc viral video famili children gatecrash interview hippiti hoppiti mood day',\n",
       " 'quidditch player leav harri potter behind aim athlet credibl',\n",
       " 'think take exclus interview trump say would listen foreign offer dirt oppon',\n",
       " 'sent professor pictur hospit get test look close oxygen tube nose ear bud',\n",
       " 'bavarian citi wasserburg still cannonbal stuck wall sieg',\n",
       " 'denver polic forgotten peopl custodi overnight three time year',\n",
       " 'dad die month wed lose brother tell turn around brother record song wed father daughter danc male famili member take turn danc',\n",
       " 'world heaviest parrot critic endang bird live remot part new zealand success breed season sinc conserv effort began two decad ago',\n",
       " 'georg w bush presid unit state time attempt convinc leader middl east end fight',\n",
       " 'vision izzard made like manli queen heart alic wonderland',\n",
       " 'san francisco bay area interspers vast expans cattl graze land turn quit beauti photo la trampa region wilder east bay',\n",
       " 'beyonc follow chanc rapper footstep donat million brooklyn public school',\n",
       " 'sound right x post r pandr pleas tell pictur world',\n",
       " 'black shooter need stay home instead come us far joy behar',\n",
       " 'mari antionnet celebr cakeday result behead guillotin jealou instagram user',\n",
       " 'even sun shone bottl beer give concret cool metal color',\n",
       " 'differ left side right side due mani right hand peopl',\n",
       " 'fortun fortun cooki fortun cooki fortun cooki fortun cooki',\n",
       " 'someon cycl bataclan pari play imagin piano video articl',\n",
       " 'america creepiest crime got even weirder ladi marri daughter previous marri son',\n",
       " 'canadian tire shop leav door unlock close peopl come look around leav noth stolen noth touch one custom even flip open sign close behalf',\n",
       " 'fwd cant stand type peopl fwd forget comment kid fwd govern get',\n",
       " 'mod r fakehistoryporn ban meme kill subreddit circa',\n",
       " 'news privaci win levi final develop jean peopl wear contact lens cannot see',\n",
       " 'driven love foster mother rural bangladesh devot rais orphan',\n",
       " 'u skate athlet nanci kerrigan attack incid orchestr jeff gillooli involv tonya hard januari',\n",
       " 'month light broadway kong eighth wonder world',\n",
       " 'kid receiv first ever doubl hand transplant last year write new hand',\n",
       " 'michel carter captur camera encourag lover commit suicid disturb imag play signific road eventu trial',\n",
       " 'tim marczenko say look bigfoot bush east toronto tend marijuana plot',\n",
       " 'marshal mather calvin broadu jr andr young record album circa',\n",
       " 'gop oregon lawmak threaten polic climat bill boycott hit formal complaint',\n",
       " 'e terrifi raw meat littl close home remind us muscl full bacteria caus food born ill',\n",
       " 'everyday clean servic make differ anim shape blanket towel',\n",
       " 'german propaganda magazin direct west x rest magazin comment',\n",
       " 'move new hous found one window upstair wonder long bb tini wasp window',\n",
       " 'amaz song fade abruptli way well version keyboard artist play song uniqu similar',\n",
       " 'hardwar came new tv stand includ littl level make sure shelv straight',\n",
       " 'sir photographi digit art add anyth photoshop',\n",
       " 'smoke save live cousin smoker prevent carport collaps last night snowstorm',\n",
       " 'u energi depart prepar tap strateg petroleum reserv need stabil global energi suppli',\n",
       " 'brass globe type thing wall near edg brick wall think rubberi flimsi spoon look thing',\n",
       " 'oh think beard alli mere adopt beard born mold see smooth face alreadi man noth blind',\n",
       " 'news could chase thiev monkey alley fall rusti grate lost trove ancient potion futur healthcar',\n",
       " 'away comput hope enjoy shitti mobil shop refer jurass world',\n",
       " 'isi jihadi bride claim forc sex yazidi girl never rape koran condon',\n",
       " 'mug thoroughli frost layer ice releas upon first sip',\n",
       " 'million beauti imag biodivers avail free biodivers heritag librari open sourc archiv contain wonder kind',\n",
       " 'lo angel polic offic attempt hold back looter rodney king riot',\n",
       " 'virginia doctor prescrib opioid dose sentenc year author say patient virginia kentucki west virginia ohio tennesse',\n",
       " 'would pc candid deni make video man eat hamster complain unfair disqualif',\n",
       " 'overweight woman ditch common habit lose lb cut fast food start work',\n",
       " 'post malon proudli display rough draft multiplatinum debut singl white iverson',\n",
       " 'quartz line separ two part tv show archer becam bore power alreadi',\n",
       " 'e tv seri supergirl use clip catalonian independ protest scene protest tv',\n",
       " 'facebook declin say delet certain polit account other us news guardian',\n",
       " 'russian hockey player come reddit help end fulfil dream play hockey us stori comment',\n",
       " 'gene simmon reveal slept wife video sleep w dog away tour',\n",
       " 'young parent told everyon rememb exactli happen',\n",
       " 'one simpl wish organ make differ grant wish foster children wish amazingli small',\n",
       " 'virginia beach surfer rais fund send board equip impoverish kid west indi',\n",
       " 'major way presid obama never let countri scandal',\n",
       " 'life grim realiti incom inequ orgi desert poor u commun leav million american access mask fuck soire',\n",
       " 'good guy best buy screw order send custom ipad instead one let custom keep em',\n",
       " 'year old ww veteran turn internet see favorit team play world seri internet rais enough wealthi busi man pay ticket money rais donat purpl heart foundat instead',\n",
       " 'finnish soldier govern drove front depriv children warm home food',\n",
       " 'window user refus upgrad window would hassl familiar',\n",
       " 'marri coupl tri destroy wed photograph total backfir coupl accus photograph hold wed photo hostag social media pay million damag defam',\n",
       " 'american soldier dive crawl cover enemi gunfir beach iwo jima color',\n",
       " 'colbert donat remain super pac sandi relief soldier aid polit transpar group repost r polit',\n",
       " 'scari reason never order egg sandwich fast food restaur lot chemic addit appar especi one subway',\n",
       " 'worri japanes man call kid e higher emperor parad tokyo',\n",
       " 'jim carrey post easter selfi everyon concern beard hold cute littl bunni smile happili',\n",
       " 'ice arch lake michigan near local lighthous western side michigan lower peninsula',\n",
       " 'compani employ boss obscur disput rubbish could reshap agenc work',\n",
       " 'steve job steve wozniak argu lay peopl work appl circa',\n",
       " 'twitter user grawli say dildo stuck butt livetweet hospit trip tweet',\n",
       " 'fonzi manner symptom advanc syphili question henri winkler',\n",
       " 'found green toilet paper manufactur clean grandpar basement',\n",
       " 'hitler walk spineless leader democraci british cartoonist david low',\n",
       " 'littl girl lose favourit cuddli cat toy despit year product manufactur commiss one replac free heartwarm',\n",
       " 'psbattl paul rudd jeremi renner pose press junket paul arm wrap around jeremi torso behind',\n",
       " 'quarter million dollar work truck even middl seat posit like mclaren f',\n",
       " 'bolshevik bolshevik england red still green british unionist parti poster publish wake campbel case zinoviev letter',\n",
       " 'quit sure caus condens windshield wipe',\n",
       " 'tropic storm isaac helen join form angri face atlant ocean e due reach caribbean thursday sept th imag taken today',\n",
       " 'graffiti left german troop retreat holland around januari life magazin',\n",
       " 'non thermal plasma new technolog develop research univers michigan could kill deadli germ air',\n",
       " 'turkish state agricultur depart urg citizen drink beer translat comment',\n",
       " 'tulsa kkk founder w tate bradi celebr dozen innoc black resid murder kkk tulsa oklahoma june colouris',\n",
       " 'expert refus warn new health hazard american deal current backlog',\n",
       " 'put everi singl coin e collect throughout childhood bank got',\n",
       " 'head state depart hillari secretli join gloriou leader favorit pasttim',\n",
       " 'presid elect pack news confer paid aid readi jeer report',\n",
       " 'conan exil dev explain game genit physic endow slider nuditi part game fit lore set also gender equal dev would like add abil castrat player game',\n",
       " 'nazi forc north africa campaign gather local jew shipment extermin camp',\n",
       " 'mortel crawford lost sight sens smell drive shoot year ago earlier month graduat culinari degre earn titl chef',\n",
       " 'papa john u k launch beezza campaign sell mini pizza bee help rais awar declin bee popul around globe',\n",
       " 'put togeth u v tritium pendant purpl tritium pendant got broke week ago',\n",
       " 'everi papa john pizza come pepper anoth restaur like idea',\n",
       " 'blast past found insid pocket ski jacket ticket nba game get cold rare live wear jacket everi year recal game',\n",
       " 'gap bridg british satir magazin punch criticis american refus join leagu nation decemb',\n",
       " 'largest presbyterian denomin us ordain minist gun violenc prevent',\n",
       " 'oliv ridley turtl hatch mumbai beach first time year massiv beach clean drive',\n",
       " 'base recent convers reddit giant kati perri kesha attack san francisco',\n",
       " 'local council cut tree left one branch remain pigeon nest',\n",
       " 'whole sure must would think mean oak tree side write',\n",
       " 'melania trump parent becom u citizen use chain migrat trump say hate',\n",
       " 'trump campaign train poll watcher spot suspici skin color elect day',\n",
       " 'peopl never seem like fred long friend kind eat lunch everi day',\n",
       " 'princ challa mourn death father king chaka outsid vienna intern centr circa',\n",
       " 'preval improv hous adequ sanit size qualiti doubl sub saharan africa',\n",
       " 'blog thought never walk real birdbrain move nephew trampolin sure',\n",
       " 'first vietnames victori american vietnam war north vietnames celebr gulf tonkin incid x',\n",
       " 'mom came home told look english muffin ask think got one extra',\n",
       " 'doctor assum year old must five month pregnant one huge problem girl virgin ascend abdomen caus stage ovarian cancer',\n",
       " 'phobia e kid thought number digit clock look like shape e head never unse follow everywher',\n",
       " 'termin ill schoolgirl make miracl recoveri becom first world beat rare cancer',\n",
       " 'nasa self heal materi repair two second deni membership pattern made roomba led attach',\n",
       " 'florida man attack sleep friend editor capitol ground face charg nearli gun stolen pawn shop',\n",
       " 'build wall resist talk fbi use variou group late earli',\n",
       " 'deliv hous babi bird nest front door swing hous',\n",
       " 'giant island tube hold peopl safe unless french spanish appar',\n",
       " 'shoe topograph map norway biggest mountain galdh piggen sole',\n",
       " 'small urin middl instead left right keep everyth symmetr',\n",
       " 'psbattl princess beatrix orang nassau former queen netherland pressur wash public playground equip',\n",
       " 'two nun met mission fell love marri x post r atheism',\n",
       " 'special counsel mueller indict paul manafort russian associ obstruct charg',\n",
       " 'sarah huckabe sander clarifi presid donald trump aug tweet trump tower meet press confer',\n",
       " 'id unit nation support project provid legal identif billion peopl worldwid offici document project involv mani compani microsoft accentur pricewaterhousecoop cisco system',\n",
       " 'sandi track dune jacob isaacksz van ruisdael c c next pictur took last year place paint',\n",
       " 'protest swarm trump tower charlottesvil trump kkk fascist usa',\n",
       " 'new jersey lawmak propos resolut ask school teach huckleberri finn',\n",
       " 'way pull flush lever depend whether less water flush',\n",
       " 'friend bit sleepi night decid lay wait bu',\n",
       " 'run author pablo escobar rais money compet seri underground dog race',\n",
       " 'u militari heighten secur anoth group precoci children sneak onto base save alien friend',\n",
       " 'wisconsin car thief expect woman woman climb top car attempt stop thief',\n",
       " 'facebook miss one thing libra crypto plan need trust one trust facebook',\n",
       " 'hip account corpor know kid engag kid spot lolz pillow',\n",
       " 'student ask bring dog class hurrican irma professor best respons',\n",
       " 'reason steve carel almost appear offic final complet fabric plan entir time cast crew simpli lie media lead',\n",
       " 'life heartwarm polic offic sure reach black youth commun put pumpkin front park hang sometim',\n",
       " 'american forc prepar load atom weapon onto enola gay prepar drop innoc citi hiroshima color',\n",
       " 'vike owner ziggi wilf governor dayton shovel groundbreak new vike stadium',\n",
       " 'maximum amount caffein drink day look like starbuck coffe oz bottl hour energi mcd coffe oz can red bull oz cup black tea can coke latt iflscienc com',\n",
       " 'punish doctor prescrib weed easili could get year prison conduct full medic exam first',\n",
       " 'aoc rip mcconnel pic young men eam mitch shirt rope choke cutout',\n",
       " 'rural colorado counti three peopl per squar mile send student ivi leagu institut',\n",
       " 'pictur king faisal al saud third monarch saudi arabia sign oil extract agreement implement extraterrestri technolog detect oil reservoir kingdom',\n",
       " 'attempt allevi grim mood noah distribut hors mask everyon',\n",
       " 'finnish translat isaac asimov book imperi star destroy star war cover',\n",
       " 'vladimir putin react news nerv ga attack uk order',\n",
       " 'chipotl say beyond meat imposs food product ad menu process thu violat food integr motto',\n",
       " 'way ice melt lead believ left window crack open night',\n",
       " 'north korea finish dismantl nuclear test site within two week north korea take technic measur dismantl nuclear test site within next two week accord state media',\n",
       " 'local domino pizza staircas small children watch pizza made',\n",
       " 'civilian find hous ruin atom bomb hiroshima bamboo stone support match blast subsequ firestorm leav wasteland behind aug color',\n",
       " 'plaza de botero medel n colombia notic boob yellow everybodi touch',\n",
       " 'face stiff opposit gun design arkansa push right print plan',\n",
       " 'xi jinp abolish term limit effect make emperor china march color',\n",
       " 'toronto base hackery colleg technolog launch option allow student pay upfront week full time web develop bootcamp otherwis cost k graduat make k pre tax year would pay back incom year',\n",
       " 'news take precaut donald trump teeth cabinet member remov cannot bite',\n",
       " 'man serv year sentenc sex crime convict exoner discoveri miss dog',\n",
       " 'london gatwick airport even coupl thoma cook plane tower guess fli time soon',\n",
       " 'made pirat boat wood rope highest mast high ship full length',\n",
       " 'ira member construct bomb upcom attack unawar surveil british drone circa',\n",
       " 'john ride ox hors shame win game great leap forward propaganda prc',\n",
       " 'uzbekistan open busi end tortur ambassador say bellevu confer',\n",
       " 'nintendo explain buy mario kart redevelop game switch new charact featur',\n",
       " 'nutrit fact one cotton candi bucket serv contain calori count revers',\n",
       " 'nativ american attempt partit remain land colonist arriv circa',\n",
       " 'new altern histori drama examin would happen nazi nba final',\n",
       " 'roll tape finish right end job leav surplu nice',\n",
       " 'dunno man sometim feel like never chanc explor option',\n",
       " 'marin involv cousin fatal accid use nd chanc educ student posit choic',\n",
       " 'nasa happili report earth greener tree year ago nd thank china india',\n",
       " 'good day take boat poland side year pull light',\n",
       " 'face marylin appear decor partner live room matt emuls paint wallpap anyth underneath',\n",
       " 'oh honey look cute human ice cream cone got get shot',\n",
       " 'maryland state senat pass bill ban expand polystyren ep foam food contain bipartisan support',\n",
       " 'eva longoira sex everyon refer charact desper housew',\n",
       " 'eleph spend hour desper tri pull babi free muddi well villag lend help hand',\n",
       " 'exoner convict murder releas prison year onlin quiz sort gryffindor',\n",
       " 'recogn star us alreadi famou click',\n",
       " 'man earn platinum trophi playstat mif soni reason soni offer recognit achiev',\n",
       " 'westboro baptist church arlington nation cemeteri spark counter protest ku klux klan',\n",
       " 'saw sick photo day shoot star taken phone camera thought share photo took use model phone',\n",
       " 'e discov effort reduc plastic straw use starbuck replac lid make cup adult sippi cup',\n",
       " 'germani reliabl bulwark bolshev serbian govern nation salvat ww',\n",
       " 'orang order fermanagh reach crisi point declin membership age never lower ebb write member',\n",
       " 'dispatch actual idea test sit year',\n",
       " 'donald trump say world percent better saddam hussein gaddafi complex',\n",
       " 'sign front park space next handicap park local mall',\n",
       " 'louisiana wilbert jone walk free baton roug year behind bar overturn rape kidnap convict',\n",
       " 'trump campaign store offer special disavow discount end back merchandis',\n",
       " 'news major bombshel newli declassifi jfk assassin document reveal kennedi head would explod day regardless whether shot',\n",
       " 'sex prison multipl wive pa court tell convict killer',\n",
       " 'rare imag neil armstrong moment board appolo set foot moon juli',\n",
       " 'soviet offici order resid worker pripyat evacu follow disast chernobyl nuclear plant',\n",
       " 'ncredibl anim describ miss birth first child mr incred could consist size peni bulg',\n",
       " 'psbattl sid babi gorilla play guess nat geo explor stephen blake democrat republ congo',\n",
       " 'specialti beer honor endang bird money commemor beer glass sale go support green bay conserv partner',\n",
       " 'orthodox jewish hasid sect stamford hill ban women drive children school',\n",
       " 'man okcupid wonder woman offer string attach sex real yew norker',\n",
       " 'presid trump claim stock market ad trillion valu sinc elect',\n",
       " 'print guardian sword zelda breath worst presid right place right place versail confrenc',\n",
       " 'lpt god world biggest amphibian get satur time',\n",
       " 'jose mourinho said anthoni martial came score man unit winner tottenham find space',\n",
       " 'former pop idol winner michel mcmanu unveil rather differ new look pink hair',\n",
       " 'internet purchas exchang locat camera spot get rob video',\n",
       " 'psbattl florida senat marco rubio r take selfi enthusiast support',\n",
       " 'give way dollar pedal might chanc weighti soviet rubl overtak ussr',\n",
       " 'mitch mcconnel look senat reject obamacar repeal motion circa',\n",
       " 'bronco qb mark sanchez attend team nfl draft parti team proce draft qb first round',\n",
       " 'inmat given year prison sentenc mistakenli releas turn life around rearrest freed perman judg',\n",
       " 'moment realiz whole countri offici biggest sport sub reddit',\n",
       " 'psbattl star lord run street beer element gun x post r pic',\n",
       " 'anti bulli news stori uniqu perspect use guy educ assist start pursu career nd year high school brave smart funni person love sport',\n",
       " 'nsfw two nake ladi two lucki guy drive rc car dildo attatch',\n",
       " 'said find robert downey jr dolli parton georg saunder say',\n",
       " 'suitcas fill equip health heal recoveri mean high frequenc father law found father basement',\n",
       " 'local starbuck blackboard staff drawn portrait favorit item choic',\n",
       " 'japan set new record number peopl year old almost women',\n",
       " 'ancient rock art discov vasquez rock creat tataviam indian shortli meet demis hand spanish settler',\n",
       " 'two hong konger naruto run polic fast captur current technolog',\n",
       " 'one sad tribut miss walk dead midseason final maggi wore glenn cap',\n",
       " 'free soledad brother men left right john cultchett georg jackson fleeta drumgo',\n",
       " 'one student got full mark write one sentenc essay write first rule fight club talk fight club synopsi fight club',\n",
       " 'african watch white dude wear sock sandal approach net',\n",
       " 'unusu cold night light rain pattern form skylight',\n",
       " 'jose maria ruiz mateo spanish tycoon stranger court appear face patern lawsuit despit dead',\n",
       " 'sweet kitti greet us everi time trigger toy fanci transpar roof oc x',\n",
       " 'pprove donald trump asbesto sold russian compani brand presid face',\n",
       " 'luxuri airlin passeng react presidenti elect result newspap confirm trump victori novemb',\n",
       " 'member intern worker world rais fist solidar communist ideal',\n",
       " 'cool guy look explos guy probabl pay attent',\n",
       " 'girlfriend pick today think soup tri tell trump hate immigr want chanc support',\n",
       " 'eminem succeed get word ad english dictionari word stan mean obsess fan',\n",
       " 'mike penc announc support week unpaid menstruat leav nation women',\n",
       " 'start question month okcupid still got match',\n",
       " 'dalmatian final give birth vet realiz made big mistak dog gave birth unusu larg number puppi noth vet mistak mention',\n",
       " 'donald trump jr divorc leav confus heartbroken nation wonder bad thing happen good peopl',\n",
       " 'found piec spaghetti fulli cut dri pasta today',\n",
       " 'oc correl camera phone unjustifi polic homicid feedback much appreci',\n",
       " 'psbattl tri transfer file commodor first appl comput',\n",
       " 'therefor taken dune sea cast pit carkoon nest place power sarlacc',\n",
       " 'oslo area much bicycl traffic make roundabout',\n",
       " 'boss collect antiqu radio walk offic found creepi thing front desk stare',\n",
       " 'soviet union launch laika first dog space sputnik novemb',\n",
       " 'back back post home feed look like babi turtl leav disappoint parent',\n",
       " 'terrorist oron reveal isi hq onlin selfi u air forc promptli destroy compound',\n",
       " 'simpl republican spanish civil war poster denounc gener franco nationalist late',\n",
       " 'dark alleyway mugger beat steve harrington pulp horrifi nanci wheeler shown pictur watch',\n",
       " 'get enough upvot happen market within last day',\n",
       " 'huge solar facil give power fulli complet african peopl',\n",
       " 'til maker extrem makeov home edit close billion pound candi member greatest english essayist literari critic along song graduat',\n",
       " 'obama say race relat get wors way know true',\n",
       " 'peanut allergi cure major children immunotherapi trial australian research hail breakthrough ife chang toler persist four year',\n",
       " 'n j text drive ticket blitz start today depart target distract driver',\n",
       " 'seatbelt along seatbelt slit random circl back father truck look like half face stick tongu',\n",
       " 'gallowboob seen fianc anoth success day karma farm color',\n",
       " 'spec eras dust got brush chemistri notebook look like wavelength symbol',\n",
       " 'comic front back cover age well last year',\n",
       " 'pleas send love job might get cut gotten toxic dude new job call work messag fatass tinder',\n",
       " 'found gem gamestop got could play game older brother brother',\n",
       " 'news holi fuck shit farga foreign exchang student crack head open gym class shriek like motherfuck',\n",
       " 'pittsburgh new austin austin hope dream austin foretold',\n",
       " 'x x x x x x x x x x x x',\n",
       " 'brazilian soccer fan die hit toilet bowl stadium set host world cup game',\n",
       " 'somebodi trick shoe compani put review wakanda ca print catalog',\n",
       " 'raj ab bc upon enter king solomon templ alexand great grant magic archangel harut marut',\n",
       " 'lollipop mom got busi trip half transpar edibl logo insid',\n",
       " 'egg smooth line regular egg batch comparison',\n",
       " 'print error make diaper box babi appear heterochromat eye probabl cyborg',\n",
       " 'stranger thing fan grown despis charact max save read overdramat ad fill opinion piec',\n",
       " 'bathroom door option open door feet keep hand clean',\n",
       " 'debur hole circular shape reflect champfer reflect light see shape',\n",
       " 'ear eyebrow arch let other job guy go realli fall',\n",
       " 'former leader republika srpska radovan karad make last stand arrest war crime charg month kosovo unilater declar independ',\n",
       " 'gordon ramsay give explet lace tirad waiter undercook food england',\n",
       " 'odisha ganjam district blackbuck dearer son resid villag district sustain antelop',\n",
       " 'mix sugar free raspberri jelli two fruit syrup made red colour jelli vanish',\n",
       " 'girl use first aid learn read hunger game help friend tore leg open',\n",
       " 'judg compar incest paedophilia past attitud toward homosexu claim might taboo anymor',\n",
       " 'everi day tsa catch peopl smuggl skeleton x ray machin anyth stop',\n",
       " 'irishman pay indian taxi driver come theme park hear go wait outsid hour',\n",
       " 'redditor ride bicycl major leagu basebal park rais chariti',\n",
       " 'usb stick use turkish transfer incrimin video kashoggi death',\n",
       " 'south korean propaganda leaflet produc korean war caption state communist parti squeez sweat blood farmer c',\n",
       " 'team japanes research institut want hunt stem cell human cancer employ ultra precis observ sensor technolog use astronom satellit prototyp detector built test mice',\n",
       " 'citi reserv space watch th juli parad day tape tarp blanket sidewalk',\n",
       " 'thought spider shower caught crap ton fruit fli come back day later turn e babi spider',\n",
       " 'ebola vaccin trial prove success guinea rapid develop test drug may bring current epidem west africa end control futur outbreak',\n",
       " 'iphon g still mint condit store otter box past year',\n",
       " 'psbattl nude man pose triumphantli front beauti natur scape nsfw butt',\n",
       " 'poster tri link republican presidenti candid john c fr mont strang movement like temper feminist social free love catholic abolition',\n",
       " 'howdi mitch call pyra mitch go tour guid today',\n",
       " 'scholar uncov previous unseen version da vinci classic artwork last supper',\n",
       " ...]"
      ]
     },
     "execution_count": 36,
     "metadata": {},
     "output_type": "execute_result"
    }
   ],
   "source": [
    "corpus"
   ]
  },
  {
   "cell_type": "code",
   "execution_count": 37,
   "id": "3ead455e-a7fe-4dd6-9a6a-515cf59549bb",
   "metadata": {},
   "outputs": [],
   "source": [
    "vocab_size = 5000"
   ]
  },
  {
   "cell_type": "code",
   "execution_count": 38,
   "id": "d037d3cf-d3c8-4445-bc36-84c1121a6bd1",
   "metadata": {},
   "outputs": [],
   "source": [
    "onehot_repr = [one_hot(sentences,vocab_size) for sentences in corpus]"
   ]
  },
  {
   "cell_type": "code",
   "execution_count": 40,
   "id": "485e0edb-1847-4e25-9997-9e4921240fa8",
   "metadata": {},
   "outputs": [
    {
     "data": {
      "text/plain": [
       "[3271, 950, 4897, 272, 3354, 2615, 3393, 2455, 3576]"
      ]
     },
     "execution_count": 40,
     "metadata": {},
     "output_type": "execute_result"
    }
   ],
   "source": [
    "onehot_repr[0]"
   ]
  },
  {
   "cell_type": "code",
   "execution_count": 41,
   "id": "6f4416d9-d5f4-4936-a0d4-1cd56aa43776",
   "metadata": {},
   "outputs": [
    {
     "data": {
      "text/plain": [
       "'american sure flight vanish thank alien terrorist hide seek'"
      ]
     },
     "execution_count": 41,
     "metadata": {},
     "output_type": "execute_result"
    }
   ],
   "source": [
    "corpus[0]"
   ]
  },
  {
   "cell_type": "code",
   "execution_count": 42,
   "id": "4ae126bc-bb45-49e1-b579-37aa8be4bbe4",
   "metadata": {},
   "outputs": [],
   "source": [
    "sent_length = 20"
   ]
  },
  {
   "cell_type": "code",
   "execution_count": 43,
   "id": "819f9659-4c12-43c7-a3ac-29e412db6c66",
   "metadata": {},
   "outputs": [],
   "source": [
    "padded_repr = pad_sequences(onehot_repr,padding='pre',maxlen=sent_length)"
   ]
  },
  {
   "cell_type": "code",
   "execution_count": 45,
   "id": "6e39c3dd-65ee-4605-a772-75fe893110b7",
   "metadata": {},
   "outputs": [
    {
     "data": {
      "text/plain": [
       "array([   0,    0,    0,    0,    0,    0,    0,    0,    0,    0,    0,\n",
       "       3271,  950, 4897,  272, 3354, 2615, 3393, 2455, 3576])"
      ]
     },
     "execution_count": 45,
     "metadata": {},
     "output_type": "execute_result"
    }
   ],
   "source": [
    "padded_repr[0]"
   ]
  },
  {
   "cell_type": "code",
   "execution_count": 47,
   "id": "0b393b42-07c0-4319-a2b7-5a0cef2817e3",
   "metadata": {},
   "outputs": [],
   "source": [
    "feature_size = 40"
   ]
  },
  {
   "cell_type": "code",
   "execution_count": 71,
   "id": "f43fe094-794a-4bc8-a926-b1a45ace6f28",
   "metadata": {},
   "outputs": [],
   "source": [
    "from tensorflow.keras.layers import Dropout"
   ]
  },
  {
   "cell_type": "code",
   "execution_count": 160,
   "id": "54848f05-4859-4a58-aaa4-a4dc197a1ab4",
   "metadata": {},
   "outputs": [
    {
     "name": "stderr",
     "output_type": "stream",
     "text": [
      "C:\\Users\\tejas\\AppData\\Local\\Packages\\PythonSoftwareFoundation.Python.3.11_qbz5n2kfra8p0\\LocalCache\\local-packages\\Python311\\site-packages\\keras\\src\\layers\\core\\embedding.py:90: UserWarning: Argument `input_length` is deprecated. Just remove it.\n",
      "  warnings.warn(\n"
     ]
    }
   ],
   "source": [
    "model = Sequential()\n",
    "model.add(Embedding(vocab_size,feature_size,input_length=sent_length))\n",
    "model.add(LSTM(256))\n",
    "model.add(Dropout(0.2))\n",
    "model.add(Dense(1,activation='sigmoid'))"
   ]
  },
  {
   "cell_type": "code",
   "execution_count": 161,
   "id": "c7716cef-b0d6-4179-b8b4-30df96ff937b",
   "metadata": {},
   "outputs": [
    {
     "data": {
      "text/html": [
       "<pre style=\"white-space:pre;overflow-x:auto;line-height:normal;font-family:Menlo,'DejaVu Sans Mono',consolas,'Courier New',monospace\"><span style=\"font-weight: bold\">Model: \"sequential_4\"</span>\n",
       "</pre>\n"
      ],
      "text/plain": [
       "\u001b[1mModel: \"sequential_4\"\u001b[0m\n"
      ]
     },
     "metadata": {},
     "output_type": "display_data"
    },
    {
     "data": {
      "text/html": [
       "<pre style=\"white-space:pre;overflow-x:auto;line-height:normal;font-family:Menlo,'DejaVu Sans Mono',consolas,'Courier New',monospace\">┏━━━━━━━━━━━━━━━━━━━━━━━━━━━━━━━━━━━━━━┳━━━━━━━━━━━━━━━━━━━━━━━━━━━━━┳━━━━━━━━━━━━━━━━━┓\n",
       "┃<span style=\"font-weight: bold\"> Layer (type)                         </span>┃<span style=\"font-weight: bold\"> Output Shape                </span>┃<span style=\"font-weight: bold\">         Param # </span>┃\n",
       "┡━━━━━━━━━━━━━━━━━━━━━━━━━━━━━━━━━━━━━━╇━━━━━━━━━━━━━━━━━━━━━━━━━━━━━╇━━━━━━━━━━━━━━━━━┩\n",
       "│ embedding_8 (<span style=\"color: #0087ff; text-decoration-color: #0087ff\">Embedding</span>)              │ ?                           │     <span style=\"color: #00af00; text-decoration-color: #00af00\">0</span> (unbuilt) │\n",
       "├──────────────────────────────────────┼─────────────────────────────┼─────────────────┤\n",
       "│ lstm_8 (<span style=\"color: #0087ff; text-decoration-color: #0087ff\">LSTM</span>)                        │ ?                           │     <span style=\"color: #00af00; text-decoration-color: #00af00\">0</span> (unbuilt) │\n",
       "├──────────────────────────────────────┼─────────────────────────────┼─────────────────┤\n",
       "│ dropout_8 (<span style=\"color: #0087ff; text-decoration-color: #0087ff\">Dropout</span>)                  │ ?                           │               <span style=\"color: #00af00; text-decoration-color: #00af00\">0</span> │\n",
       "├──────────────────────────────────────┼─────────────────────────────┼─────────────────┤\n",
       "│ dense_8 (<span style=\"color: #0087ff; text-decoration-color: #0087ff\">Dense</span>)                      │ ?                           │     <span style=\"color: #00af00; text-decoration-color: #00af00\">0</span> (unbuilt) │\n",
       "└──────────────────────────────────────┴─────────────────────────────┴─────────────────┘\n",
       "</pre>\n"
      ],
      "text/plain": [
       "┏━━━━━━━━━━━━━━━━━━━━━━━━━━━━━━━━━━━━━━┳━━━━━━━━━━━━━━━━━━━━━━━━━━━━━┳━━━━━━━━━━━━━━━━━┓\n",
       "┃\u001b[1m \u001b[0m\u001b[1mLayer (type)                        \u001b[0m\u001b[1m \u001b[0m┃\u001b[1m \u001b[0m\u001b[1mOutput Shape               \u001b[0m\u001b[1m \u001b[0m┃\u001b[1m \u001b[0m\u001b[1m        Param #\u001b[0m\u001b[1m \u001b[0m┃\n",
       "┡━━━━━━━━━━━━━━━━━━━━━━━━━━━━━━━━━━━━━━╇━━━━━━━━━━━━━━━━━━━━━━━━━━━━━╇━━━━━━━━━━━━━━━━━┩\n",
       "│ embedding_8 (\u001b[38;5;33mEmbedding\u001b[0m)              │ ?                           │     \u001b[38;5;34m0\u001b[0m (unbuilt) │\n",
       "├──────────────────────────────────────┼─────────────────────────────┼─────────────────┤\n",
       "│ lstm_8 (\u001b[38;5;33mLSTM\u001b[0m)                        │ ?                           │     \u001b[38;5;34m0\u001b[0m (unbuilt) │\n",
       "├──────────────────────────────────────┼─────────────────────────────┼─────────────────┤\n",
       "│ dropout_8 (\u001b[38;5;33mDropout\u001b[0m)                  │ ?                           │               \u001b[38;5;34m0\u001b[0m │\n",
       "├──────────────────────────────────────┼─────────────────────────────┼─────────────────┤\n",
       "│ dense_8 (\u001b[38;5;33mDense\u001b[0m)                      │ ?                           │     \u001b[38;5;34m0\u001b[0m (unbuilt) │\n",
       "└──────────────────────────────────────┴─────────────────────────────┴─────────────────┘\n"
      ]
     },
     "metadata": {},
     "output_type": "display_data"
    },
    {
     "data": {
      "text/html": [
       "<pre style=\"white-space:pre;overflow-x:auto;line-height:normal;font-family:Menlo,'DejaVu Sans Mono',consolas,'Courier New',monospace\"><span style=\"font-weight: bold\"> Total params: </span><span style=\"color: #00af00; text-decoration-color: #00af00\">0</span> (0.00 B)\n",
       "</pre>\n"
      ],
      "text/plain": [
       "\u001b[1m Total params: \u001b[0m\u001b[38;5;34m0\u001b[0m (0.00 B)\n"
      ]
     },
     "metadata": {},
     "output_type": "display_data"
    },
    {
     "data": {
      "text/html": [
       "<pre style=\"white-space:pre;overflow-x:auto;line-height:normal;font-family:Menlo,'DejaVu Sans Mono',consolas,'Courier New',monospace\"><span style=\"font-weight: bold\"> Trainable params: </span><span style=\"color: #00af00; text-decoration-color: #00af00\">0</span> (0.00 B)\n",
       "</pre>\n"
      ],
      "text/plain": [
       "\u001b[1m Trainable params: \u001b[0m\u001b[38;5;34m0\u001b[0m (0.00 B)\n"
      ]
     },
     "metadata": {},
     "output_type": "display_data"
    },
    {
     "data": {
      "text/html": [
       "<pre style=\"white-space:pre;overflow-x:auto;line-height:normal;font-family:Menlo,'DejaVu Sans Mono',consolas,'Courier New',monospace\"><span style=\"font-weight: bold\"> Non-trainable params: </span><span style=\"color: #00af00; text-decoration-color: #00af00\">0</span> (0.00 B)\n",
       "</pre>\n"
      ],
      "text/plain": [
       "\u001b[1m Non-trainable params: \u001b[0m\u001b[38;5;34m0\u001b[0m (0.00 B)\n"
      ]
     },
     "metadata": {},
     "output_type": "display_data"
    }
   ],
   "source": [
    "model.compile(optimizer='adam',metrics=['accuracy'],loss='binary_crossentropy')\n",
    "model.summary()"
   ]
  },
  {
   "cell_type": "code",
   "execution_count": 162,
   "id": "77248354-8a85-48e3-a29a-ba7ef7a5cd04",
   "metadata": {},
   "outputs": [
    {
     "data": {
      "text/plain": [
       "(47813, (47813,))"
      ]
     },
     "execution_count": 162,
     "metadata": {},
     "output_type": "execute_result"
    }
   ],
   "source": [
    "len(padded_repr),y.shape"
   ]
  },
  {
   "cell_type": "code",
   "execution_count": 163,
   "id": "7dbb53dc-1874-4945-8fee-f88409740ae3",
   "metadata": {},
   "outputs": [],
   "source": [
    "X_final = np.array(padded_repr)\n",
    "y_final = np.array(y)"
   ]
  },
  {
   "cell_type": "code",
   "execution_count": 164,
   "id": "789450da-6486-4012-8b25-ed421e03e5ec",
   "metadata": {},
   "outputs": [],
   "source": [
    "from sklearn.model_selection import train_test_split\n",
    "from sklearn.metrics import classification_report,accuracy_score"
   ]
  },
  {
   "cell_type": "code",
   "execution_count": 165,
   "id": "2188dbe5-aedf-4c5e-a630-2318f37cd4ef",
   "metadata": {},
   "outputs": [],
   "source": [
    "X_train,X_test,y_train,y_test = train_test_split(X_final,y_final,test_size=0.2,random_state=42)"
   ]
  },
  {
   "cell_type": "code",
   "execution_count": 166,
   "id": "fae298cd-24db-4867-9e0f-4ef7d30651e5",
   "metadata": {},
   "outputs": [],
   "source": [
    "from tensorflow.keras.callbacks import EarlyStopping"
   ]
  },
  {
   "cell_type": "code",
   "execution_count": 167,
   "id": "513b8023-523b-45d5-a4fb-2b13c5576af7",
   "metadata": {},
   "outputs": [],
   "source": [
    "early_stop = EarlyStopping(monitor='val_loss',patience=2,restore_best_weights=True)"
   ]
  },
  {
   "cell_type": "code",
   "execution_count": 168,
   "id": "fadfe4b3-a412-41dc-8061-f98d7d9420ef",
   "metadata": {},
   "outputs": [
    {
     "name": "stdout",
     "output_type": "stream",
     "text": [
      "Epoch 1/20\n",
      "\u001b[1m1196/1196\u001b[0m \u001b[32m━━━━━━━━━━━━━━━━━━━━\u001b[0m\u001b[37m\u001b[0m \u001b[1m40s\u001b[0m 32ms/step - accuracy: 0.6705 - loss: 0.5767 - val_accuracy: 0.7519 - val_loss: 0.5134\n",
      "Epoch 2/20\n",
      "\u001b[1m1196/1196\u001b[0m \u001b[32m━━━━━━━━━━━━━━━━━━━━\u001b[0m\u001b[37m\u001b[0m \u001b[1m40s\u001b[0m 34ms/step - accuracy: 0.8024 - loss: 0.4242 - val_accuracy: 0.7641 - val_loss: 0.4900\n",
      "Epoch 3/20\n",
      "\u001b[1m1196/1196\u001b[0m \u001b[32m━━━━━━━━━━━━━━━━━━━━\u001b[0m\u001b[37m\u001b[0m \u001b[1m40s\u001b[0m 33ms/step - accuracy: 0.8369 - loss: 0.3702 - val_accuracy: 0.7542 - val_loss: 0.5061\n",
      "Epoch 4/20\n",
      "\u001b[1m1196/1196\u001b[0m \u001b[32m━━━━━━━━━━━━━━━━━━━━\u001b[0m\u001b[37m\u001b[0m \u001b[1m40s\u001b[0m 33ms/step - accuracy: 0.8592 - loss: 0.3289 - val_accuracy: 0.7544 - val_loss: 0.5300\n"
     ]
    },
    {
     "data": {
      "text/plain": [
       "<keras.src.callbacks.history.History at 0x1cca4648210>"
      ]
     },
     "execution_count": 168,
     "metadata": {},
     "output_type": "execute_result"
    }
   ],
   "source": [
    "model.fit(X_train,y_train,validation_data=(X_test,y_test),epochs=20,batch_size=32,callbacks=[early_stop])"
   ]
  },
  {
   "cell_type": "code",
   "execution_count": 169,
   "id": "903f7fe4-11c2-4eaa-a0d8-415e70182e38",
   "metadata": {},
   "outputs": [
    {
     "name": "stdout",
     "output_type": "stream",
     "text": [
      "\u001b[1m299/299\u001b[0m \u001b[32m━━━━━━━━━━━━━━━━━━━━\u001b[0m\u001b[37m\u001b[0m \u001b[1m4s\u001b[0m 11ms/step\n"
     ]
    }
   ],
   "source": [
    "y_preds = model.predict(X_test)"
   ]
  },
  {
   "cell_type": "code",
   "execution_count": 170,
   "id": "b49fdfef-afec-41d8-a71b-c7467158b1ca",
   "metadata": {},
   "outputs": [],
   "source": [
    "y_preds = np.where(y_preds > 0.5,1,0)"
   ]
  },
  {
   "cell_type": "code",
   "execution_count": 171,
   "id": "5f511fe1-76ab-40b9-8788-1dc7f787b9b2",
   "metadata": {},
   "outputs": [
    {
     "data": {
      "text/plain": [
       "array([[0],\n",
       "       [0],\n",
       "       [0],\n",
       "       ...,\n",
       "       [0],\n",
       "       [0],\n",
       "       [0]])"
      ]
     },
     "execution_count": 171,
     "metadata": {},
     "output_type": "execute_result"
    }
   ],
   "source": [
    "y_preds"
   ]
  },
  {
   "cell_type": "code",
   "execution_count": 172,
   "id": "5e195700-e553-4082-838f-9fcafe8f2cc4",
   "metadata": {},
   "outputs": [
    {
     "data": {
      "text/plain": [
       "0.7640907664958695"
      ]
     },
     "execution_count": 172,
     "metadata": {},
     "output_type": "execute_result"
    }
   ],
   "source": [
    "accuracy_score(y_test,y_preds)"
   ]
  },
  {
   "cell_type": "code",
   "execution_count": 173,
   "id": "7f087bea-4a78-4095-bdc0-028d42b787b6",
   "metadata": {},
   "outputs": [
    {
     "name": "stdout",
     "output_type": "stream",
     "text": [
      "              precision    recall  f1-score   support\n",
      "\n",
      "           0       0.79      0.76      0.78      5179\n",
      "           1       0.73      0.76      0.75      4384\n",
      "\n",
      "    accuracy                           0.76      9563\n",
      "   macro avg       0.76      0.76      0.76      9563\n",
      "weighted avg       0.77      0.76      0.76      9563\n",
      "\n"
     ]
    }
   ],
   "source": [
    "print(classification_report(y_test,y_preds))"
   ]
  },
  {
   "cell_type": "code",
   "execution_count": 175,
   "id": "290e4995-f05a-49ac-b05b-54d635472df6",
   "metadata": {},
   "outputs": [],
   "source": [
    "from sklearn.metrics import confusion_matrix\n",
    "import seaborn as sns"
   ]
  },
  {
   "cell_type": "code",
   "execution_count": 178,
   "id": "aa7bae18-013f-4f27-bafd-4b399074ea32",
   "metadata": {},
   "outputs": [
    {
     "data": {
      "text/plain": [
       "<Axes: >"
      ]
     },
     "execution_count": 178,
     "metadata": {},
     "output_type": "execute_result"
    },
    {
     "data": {
      "image/png": "[encoded data removed]",
      "text/plain": [
       "<Figure size 640x480 with 2 Axes>"
      ]
     },
     "metadata": {},
     "output_type": "display_data"
    }
   ],
   "source": [
    "sns.heatmap(confusion_matrix(y_test,y_preds),annot=True,cmap='Blues')"
   ]
  },
  {
   "cell_type": "code",
   "execution_count": 203,
   "id": "9ed4dade-a43d-43a9-a5aa-cc7bf6e8f550",
   "metadata": {},
   "outputs": [],
   "source": [
    "test_df = pd.read_csv('x_test.csv')"
   ]
  },
  {
   "cell_type": "code",
   "execution_count": 204,
   "id": "d6f0517c-1394-4593-83b9-acbbc9040e66",
   "metadata": {},
   "outputs": [
    {
     "data": {
      "text/html": [
       "<div>\n",
       "<style scoped>\n",
       "    .dataframe tbody tr th:only-of-type {\n",
       "        vertical-align: middle;\n",
       "    }\n",
       "\n",
       "    .dataframe tbody tr th {\n",
       "        vertical-align: top;\n",
       "    }\n",
       "\n",
       "    .dataframe thead th {\n",
       "        text-align: right;\n",
       "    }\n",
       "</style>\n",
       "<table border=\"1\" class=\"dataframe\">\n",
       "  <thead>\n",
       "    <tr style=\"text-align: right;\">\n",
       "      <th></th>\n",
       "      <th>ID</th>\n",
       "      <th>text</th>\n",
       "    </tr>\n",
       "  </thead>\n",
       "  <tbody>\n",
       "    <tr>\n",
       "      <th>0</th>\n",
       "      <td>0</td>\n",
       "      <td>Local soccer club ditch shirt sponsorship deal...</td>\n",
       "    </tr>\n",
       "    <tr>\n",
       "      <th>1</th>\n",
       "      <td>1</td>\n",
       "      <td>What is this weird metal thing in the mail fro...</td>\n",
       "    </tr>\n",
       "    <tr>\n",
       "      <th>2</th>\n",
       "      <td>2</td>\n",
       "      <td>Donald Trump Jr reportedly told in email of Ru...</td>\n",
       "    </tr>\n",
       "    <tr>\n",
       "      <th>3</th>\n",
       "      <td>3</td>\n",
       "      <td>Satanist prayer is held in Alaskan government ...</td>\n",
       "    </tr>\n",
       "    <tr>\n",
       "      <th>4</th>\n",
       "      <td>4</td>\n",
       "      <td>There's A Spectacular Error In The Background ...</td>\n",
       "    </tr>\n",
       "  </tbody>\n",
       "</table>\n",
       "</div>"
      ],
      "text/plain": [
       "   ID                                               text\n",
       "0   0  Local soccer club ditch shirt sponsorship deal...\n",
       "1   1  What is this weird metal thing in the mail fro...\n",
       "2   2  Donald Trump Jr reportedly told in email of Ru...\n",
       "3   3  Satanist prayer is held in Alaskan government ...\n",
       "4   4  There's A Spectacular Error In The Background ..."
      ]
     },
     "execution_count": 204,
     "metadata": {},
     "output_type": "execute_result"
    }
   ],
   "source": [
    "test_df.head()"
   ]
  },
  {
   "cell_type": "code",
   "execution_count": 222,
   "id": "d2a384a2-ba22-4189-8ce2-a990d231aeff",
   "metadata": {},
   "outputs": [],
   "source": [
    "test_df = test_df.iloc[:11955].copy()"
   ]
  },
  {
   "cell_type": "code",
   "execution_count": 230,
   "id": "e2087f65-bf9c-4e04-b7db-811069db81de",
   "metadata": {},
   "outputs": [
    {
     "data": {
      "text/plain": [
       "11955"
      ]
     },
     "execution_count": 230,
     "metadata": {},
     "output_type": "execute_result"
    }
   ],
   "source": [
    "len(test_df)"
   ]
  },
  {
   "cell_type": "code",
   "execution_count": 223,
   "id": "af2be2cb-97cc-46de-a80b-a354b991d52d",
   "metadata": {},
   "outputs": [],
   "source": [
    "def preprocess_text(text, vocab_size, sent_length):\n",
    "    review = re.sub('[^a-zA-Z]', ' ', text)\n",
    "    review = review.lower().split()\n",
    "    review = [stemmer.stem(word) for word in review if word not in stopwords.words('english')]\n",
    "    review = \" \".join(review)\n",
    "    \n",
    "    onehot_encoded = one_hot(review, vocab_size)\n",
    "    padded = pad_sequences([onehot_encoded], maxlen=sent_length, padding='pre')\n",
    "    return padded[0]"
   ]
  },
  {
   "cell_type": "code",
   "execution_count": 224,
   "id": "f7592d4b-61d6-4de5-8ad7-e8b8eec115f3",
   "metadata": {},
   "outputs": [],
   "source": [
    "X_test_processed = np.array([preprocess_text(text, vocab_size, sent_length) for text in test_df['text']])"
   ]
  },
  {
   "cell_type": "code",
   "execution_count": 233,
   "id": "2f7d0e9c-92d1-4498-b3ed-a8fe5218c3c5",
   "metadata": {},
   "outputs": [
    {
     "name": "stdout",
     "output_type": "stream",
     "text": [
      "\u001b[1m374/374\u001b[0m \u001b[32m━━━━━━━━━━━━━━━━━━━━\u001b[0m\u001b[37m\u001b[0m \u001b[1m5s\u001b[0m 14ms/step\n"
     ]
    }
   ],
   "source": [
    "y_preds = model.predict(X_test_processed)\n",
    "y_preds_labels = np.where(y_preds > 0.5,1,0).flatten()"
   ]
  },
  {
   "cell_type": "code",
   "execution_count": 249,
   "id": "fc38e22c-1a71-48be-ac8b-af16311d460b",
   "metadata": {},
   "outputs": [],
   "source": [
    "submission = pd.DataFrame({\n",
    "    'ID': test_df['ID'].values,\n",
    "    'labels': y_preds_labels\n",
    "})"
   ]
  },
  {
   "cell_type": "code",
   "execution_count": 252,
   "id": "8ffaced0-e180-49d5-a2d9-66ef06f17131",
   "metadata": {},
   "outputs": [
    {
     "data": {
      "text/plain": [
       "11955"
      ]
     },
     "execution_count": 252,
     "metadata": {},
     "output_type": "execute_result"
    }
   ],
   "source": [
    "len(submission)"
   ]
  },
  {
   "cell_type": "code",
   "execution_count": 253,
   "id": "f8fa1437-3f78-489f-9942-759757500770",
   "metadata": {},
   "outputs": [
    {
     "data": {
      "text/plain": [
       "11955"
      ]
     },
     "execution_count": 253,
     "metadata": {},
     "output_type": "execute_result"
    }
   ],
   "source": [
    "len(test_df)"
   ]
  },
  {
   "cell_type": "code",
   "execution_count": 258,
   "id": "1b68df6d-73d7-4b89-8373-1654c28fe4ae",
   "metadata": {},
   "outputs": [
    {
     "data": {
      "text/html": [
       "<div>\n",
       "<style scoped>\n",
       "    .dataframe tbody tr th:only-of-type {\n",
       "        vertical-align: middle;\n",
       "    }\n",
       "\n",
       "    .dataframe tbody tr th {\n",
       "        vertical-align: top;\n",
       "    }\n",
       "\n",
       "    .dataframe thead th {\n",
       "        text-align: right;\n",
       "    }\n",
       "</style>\n",
       "<table border=\"1\" class=\"dataframe\">\n",
       "  <thead>\n",
       "    <tr style=\"text-align: right;\">\n",
       "      <th></th>\n",
       "      <th>ID</th>\n",
       "      <th>labels</th>\n",
       "    </tr>\n",
       "  </thead>\n",
       "  <tbody>\n",
       "    <tr>\n",
       "      <th>0</th>\n",
       "      <td>0</td>\n",
       "      <td>1</td>\n",
       "    </tr>\n",
       "    <tr>\n",
       "      <th>1</th>\n",
       "      <td>1</td>\n",
       "      <td>0</td>\n",
       "    </tr>\n",
       "    <tr>\n",
       "      <th>2</th>\n",
       "      <td>2</td>\n",
       "      <td>1</td>\n",
       "    </tr>\n",
       "    <tr>\n",
       "      <th>3</th>\n",
       "      <td>3</td>\n",
       "      <td>1</td>\n",
       "    </tr>\n",
       "    <tr>\n",
       "      <th>4</th>\n",
       "      <td>4</td>\n",
       "      <td>0</td>\n",
       "    </tr>\n",
       "  </tbody>\n",
       "</table>\n",
       "</div>"
      ],
      "text/plain": [
       "   ID  labels\n",
       "0   0       1\n",
       "1   1       0\n",
       "2   2       1\n",
       "3   3       1\n",
       "4   4       0"
      ]
     },
     "execution_count": 258,
     "metadata": {},
     "output_type": "execute_result"
    }
   ],
   "source": [
    "submission.head()"
   ]
  },
  {
   "cell_type": "code",
   "execution_count": 259,
   "id": "ac1ef1cc-9fc1-4ccf-9357-98b95118d386",
   "metadata": {},
   "outputs": [],
   "source": [
    "submission.to_csv(\"submission.csv\", index=False)"
   ]
  },
  {
   "cell_type": "code",
   "execution_count": null,
   "id": "0f823cd6-44a8-490a-bcc6-d3f0d71fe816",
   "metadata": {},
   "outputs": [],
   "source": []
  },
  {
   "cell_type": "code",
   "execution_count": null,
   "id": "96de8278-a3cd-4b73-8fc3-b1d25aa182e2",
   "metadata": {},
   "outputs": [],
   "source": []
  },
  {
   "cell_type": "code",
   "execution_count": null,
   "id": "7d473e0d-5e5d-4f38-95a4-a82117587c71",
   "metadata": {},
   "outputs": [],
   "source": []
  },
  {
   "cell_type": "code",
   "execution_count": null,
   "id": "41edb7e4-b0de-49d7-a573-7c8c7e6b9590",
   "metadata": {},
   "outputs": [],
   "source": []
  },
  {
   "cell_type": "code",
   "execution_count": null,
   "id": "26688a00-f09b-41a9-9b73-c17d23c5890a",
   "metadata": {},
   "outputs": [],
   "source": []
  },
  {
   "cell_type": "code",
   "execution_count": null,
   "id": "d1713a30-5323-44b3-b444-496f79810c51",
   "metadata": {},
   "outputs": [],
   "source": []
  },
  {
   "cell_type": "code",
   "execution_count": null,
   "id": "7bf31a15-3acc-43ec-89e3-369a2849adc0",
   "metadata": {},
   "outputs": [],
   "source": []
  },
  {
   "cell_type": "code",
   "execution_count": null,
   "id": "40d99e74-d3e6-4117-94e5-693d9bef36e3",
   "metadata": {},
   "outputs": [],
   "source": []
  },
  {
   "cell_type": "code",
   "execution_count": null,
   "id": "a1015fb8-b193-45c4-bd7d-e2184a37633b",
   "metadata": {},
   "outputs": [],
   "source": []
  },
  {
   "cell_type": "code",
   "execution_count": null,
   "id": "ab81e971-32d3-4d75-9d24-7d7a9248599d",
   "metadata": {},
   "outputs": [],
   "source": []
  }
 ],
 "metadata": {
  "kernelspec": {
   "display_name": "Python 3 (ipykernel)",
   "language": "python",
   "name": "python3"
  },
  "language_info": {
   "codemirror_mode": {
    "name": "ipython",
    "version": 3
   },
   "file_extension": ".py",
   "mimetype": "text/x-python",
   "name": "python",
   "nbconvert_exporter": "python",
   "pygments_lexer": "ipython3",
   "version": "3.11.9"
  }
 },
 "nbformat": 4,
 "nbformat_minor": 5
}
